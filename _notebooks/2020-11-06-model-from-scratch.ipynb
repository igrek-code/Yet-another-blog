{
  "nbformat": 4,
  "nbformat_minor": 0,
  "metadata": {
    "colab": {
      "name": "SGD_SCRATCH.ipynb",
      "provenance": [],
      "collapsed_sections": []
    },
    "kernelspec": {
      "name": "python3",
      "display_name": "Python 3"
    },
    "accelerator": "GPU"
  },
  "cells": [
    {
      "cell_type": "markdown",
      "metadata": {
        "id": "7btCBh9rSTQ6"
      },
      "source": [
        "# Create and train a model from scratch !\n",
        "\n",
        "- toc: true"
      ]
    },
    {
      "cell_type": "markdown",
      "metadata": {
        "id": "yUiaj-Dq2Fdk"
      },
      "source": [
        "## What will we do ?\n",
        "We will create a *linear* model then a *neural network* from scratch to do *binary classification*, train them using *gradient descent* and finally see how current libraries sipmlify these things for us and we'll create our own class that mimicks the tools provided by these libraries.\n",
        "\n",
        "> If you never used *Pytorch* before, i would refer you to my other post [Start simple, start with a baseline !](https://igrek-code.github.io/blog/2020/11/01/start-simple-start-with-a-baseline.html), which gives a more gentle introduction to the tools needed here."
      ]
    },
    {
      "cell_type": "code",
      "metadata": {
        "id": "94Gkz_py2CdZ",
        "outputId": "60faa817-ae30-450a-d09d-43ce379786da",
        "colab": {
          "base_uri": "https://localhost:8080/"
        }
      },
      "source": [
        "#hide\n",
        "!pip install -Uqq fastbook\n",
        "import fastbook\n",
        "from fastai.vision.all import *\n",
        "from fastbook import *\n",
        "\n",
        "matplotlib.rc('image', cmap='Greys')"
      ],
      "execution_count": 1,
      "outputs": [
        {
          "output_type": "stream",
          "text": [
            "\u001b[K     |████████████████████████████████| 727kB 4.6MB/s \n",
            "\u001b[K     |████████████████████████████████| 1.1MB 24.2MB/s \n",
            "\u001b[K     |████████████████████████████████| 51kB 8.9MB/s \n",
            "\u001b[K     |████████████████████████████████| 194kB 41.6MB/s \n",
            "\u001b[K     |████████████████████████████████| 51kB 8.5MB/s \n",
            "\u001b[K     |████████████████████████████████| 40kB 7.5MB/s \n",
            "\u001b[K     |████████████████████████████████| 92kB 11.6MB/s \n",
            "\u001b[K     |████████████████████████████████| 51kB 8.7MB/s \n",
            "\u001b[K     |████████████████████████████████| 61kB 9.6MB/s \n",
            "\u001b[K     |████████████████████████████████| 51kB 8.6MB/s \n",
            "\u001b[K     |████████████████████████████████| 2.6MB 37.4MB/s \n",
            "\u001b[?25h"
          ],
          "name": "stdout"
        }
      ]
    },
    {
      "cell_type": "markdown",
      "metadata": {
        "id": "0U5OYUIq5-LA"
      },
      "source": [
        "## Getting and preparing the data (you can skip this part)\n",
        "\n",
        "We'll be using the *MNIST_SAMPLE* dataset provided by *fastai*, which contains images of 3's and 7's.\n",
        "\n",
        "We start by downloading the data, opening the images, turning them into tensors and stacking them into a rank-3 tensors (matrix) for each label (train/valid) separately."
      ]
    },
    {
      "cell_type": "code",
      "metadata": {
        "id": "15X-4_4w2OsD",
        "outputId": "6c4b39d4-ae55-407b-a568-08d4ff590557",
        "colab": {
          "base_uri": "https://localhost:8080/",
          "height": 17
        }
      },
      "source": [
        "path = untar_data(URLs.MNIST_SAMPLE)\n",
        "three_train = torch.stack([tensor(Image.open(o)).float()/255 for o in (path/'train'/'3').ls()])\n",
        "seven_train = torch.stack([tensor(Image.open(o)).float()/255 for o in (path/'train'/'7').ls()])\n",
        "seven_valid = torch.stack([tensor(Image.open(o)).float()/255 for o in (path/'valid'/'7').ls()])\n",
        "three_valid = torch.stack([tensor(Image.open(o)).float()/255 for o in (path/'valid'/'3').ls()])"
      ],
      "execution_count": 2,
      "outputs": [
        {
          "output_type": "display_data",
          "data": {
            "text/html": [
              ""
            ],
            "text/plain": [
              "<IPython.core.display.HTML object>"
            ]
          },
          "metadata": {
            "tags": []
          }
        }
      ]
    },
    {
      "cell_type": "markdown",
      "metadata": {
        "id": "bdR-Dkae6rNQ"
      },
      "source": [
        "Then, we'll concatenate 3/7 tensors obtained (train/ valid seperately) into one single tensor and flatten the images out by reshaping the tensors. \n",
        "\n",
        "For our independant variables we'll create the corresponding tensor, with 1 indicating a 3 and 0 indicating a 7. Add a dimension, to not have problems further down the road (due to broadcasting)."
      ]
    },
    {
      "cell_type": "code",
      "metadata": {
        "id": "ycOsyiZ42Wjv",
        "outputId": "8db2b03b-a462-4de8-baca-aededb53504e",
        "colab": {
          "base_uri": "https://localhost:8080/"
        }
      },
      "source": [
        "train_x = torch.cat([three_train, seven_train]).view(-1, 28*28)\n",
        "train_y = tensor([1] * len(three_train) + [0] * len(seven_train)).unsqueeze(1)\n",
        "train_x.shape, train_y.shape"
      ],
      "execution_count": 3,
      "outputs": [
        {
          "output_type": "execute_result",
          "data": {
            "text/plain": [
              "(torch.Size([12396, 784]), torch.Size([12396, 1]))"
            ]
          },
          "metadata": {
            "tags": []
          },
          "execution_count": 3
        }
      ]
    },
    {
      "cell_type": "code",
      "metadata": {
        "id": "SahdWdkl2u9c",
        "outputId": "ddf0aaa5-87e5-4755-80de-acd7e85bc883",
        "colab": {
          "base_uri": "https://localhost:8080/"
        }
      },
      "source": [
        "valid_x = torch.cat([three_valid, seven_valid]).view(-1, 28*28)\n",
        "valid_y = tensor([1] * len(three_valid) + [0] * len(seven_valid)).unsqueeze(1)\n",
        "valid_x.shape, valid_y.shape"
      ],
      "execution_count": 4,
      "outputs": [
        {
          "output_type": "execute_result",
          "data": {
            "text/plain": [
              "(torch.Size([2038, 784]), torch.Size([2038, 1]))"
            ]
          },
          "metadata": {
            "tags": []
          },
          "execution_count": 4
        }
      ]
    },
    {
      "cell_type": "markdown",
      "metadata": {
        "id": "69qJJgq9-KGx"
      },
      "source": [
        "Create our **dataset** (for PyTorch it is a list of tuples containing our dependant/ independant variables).\n",
        "\n",
        "Then create our **dataloader**, which is obtained by shuffling the **dataset**, and creating batches of size 256.\n",
        "\n",
        "And wrap that in a *Dataloaders* object."
      ]
    },
    {
      "cell_type": "code",
      "metadata": {
        "id": "Cy5PGIGV2qU0"
      },
      "source": [
        "dset = list(zip(train_x, train_y))\n",
        "dl = DataLoader(dset, batch_size=256, shuffle=True)\n",
        "dset_valid = list(zip(valid_x, valid_y))\n",
        "dl_valid = DataLoader(dset_valid, batch_size=256, shuffle=True)\n",
        "dls = DataLoaders(dl, dl_valid)"
      ],
      "execution_count": 5,
      "outputs": []
    },
    {
      "cell_type": "markdown",
      "metadata": {
        "id": "FIGeOOtB_GQz"
      },
      "source": [
        "## Create and train the model\n",
        "\n",
        "### 1. From scratch approach\n",
        "\n",
        "Okay, now that we've done the kinda \"boring\" part, let's dive into our subject of interest.\n",
        "\n",
        "To assess how good our model is (human consumption), we'll need to define a *metric*."
      ]
    },
    {
      "cell_type": "code",
      "metadata": {
        "id": "mwKBoah325XZ"
      },
      "source": [
        "def batch_accuracy(predictions, targets):\n",
        "    return ((predictions > 0) == targets).float().mean()"
      ],
      "execution_count": 6,
      "outputs": []
    },
    {
      "cell_type": "markdown",
      "metadata": {
        "id": "NSFmAyT__lyH"
      },
      "source": [
        "Now we also need to define a loss function, that we will optimize using SGD."
      ]
    },
    {
      "cell_type": "code",
      "metadata": {
        "id": "dSbf9-1H3OH2"
      },
      "source": [
        "def mnist_loss(predictions, targets):\n",
        "  result = predictions.sigmoid()\n",
        "  return torch.where(targets == 1, 1 - result , result).mean()"
      ],
      "execution_count": 7,
      "outputs": []
    },
    {
      "cell_type": "markdown",
      "metadata": {
        "id": "rxVZjWmbAGdi"
      },
      "source": [
        "Where's the model at ? No worries, he's just here waiting for you !\n",
        "\n",
        "> In python \"**@**\" refers to matrix multiplication."
      ]
    },
    {
      "cell_type": "code",
      "metadata": {
        "id": "2WWL6_KoAOp5"
      },
      "source": [
        "def linear(xb): return xb @ w + b"
      ],
      "execution_count": 8,
      "outputs": []
    },
    {
      "cell_type": "markdown",
      "metadata": {
        "id": "el22lcgJAVgY"
      },
      "source": [
        "Something to randomly initialize the parameters with. And initialize them."
      ]
    },
    {
      "cell_type": "code",
      "metadata": {
        "id": "dDT3nTsWAb31"
      },
      "source": [
        "def init_params(*size): return (torch.randn(size)).requires_grad_()\n",
        "w, b = init_params(28*28, 1), init_params(1) "
      ],
      "execution_count": 9,
      "outputs": []
    },
    {
      "cell_type": "markdown",
      "metadata": {
        "id": "vyDBMFYBBTnL"
      },
      "source": [
        "We need a training loop that corresponds to the graph below. So let's do just that."
      ]
    },
    {
      "cell_type": "code",
      "metadata": {
        "id": "gKz3xxCuA9L4",
        "outputId": "d9a3a8c8-5da9-4df6-9549-da258f36522e",
        "colab": {
          "base_uri": "https://localhost:8080/",
          "height": 125
        }
      },
      "source": [
        "#hide_input\n",
        "gv('''\n",
        "init->predict->loss->gradient->step->stop\n",
        "step->predict[label=repeat]\n",
        "''')"
      ],
      "execution_count": null,
      "outputs": [
        {
          "output_type": "execute_result",
          "data": {
            "text/plain": [
              "<graphviz.files.Source at 0x7fe5c23a0828>"
            ],
            "image/svg+xml": "<?xml version=\"1.0\" encoding=\"UTF-8\" standalone=\"no\"?>\n<!DOCTYPE svg PUBLIC \"-//W3C//DTD SVG 1.1//EN\"\n \"http://www.w3.org/Graphics/SVG/1.1/DTD/svg11.dtd\">\n<!-- Generated by graphviz version 2.40.1 (20161225.0304)\n -->\n<!-- Title: G Pages: 1 -->\n<svg width=\"597pt\" height=\"78pt\"\n viewBox=\"0.00 0.00 596.69 78.00\" xmlns=\"http://www.w3.org/2000/svg\" xmlns:xlink=\"http://www.w3.org/1999/xlink\">\n<g id=\"graph0\" class=\"graph\" transform=\"scale(1 1) rotate(0) translate(4 74)\">\n<title>G</title>\n<polygon fill=\"#ffffff\" stroke=\"transparent\" points=\"-4,4 -4,-74 592.6863,-74 592.6863,4 -4,4\"/>\n<!-- init -->\n<g id=\"node1\" class=\"node\">\n<title>init</title>\n<ellipse fill=\"none\" stroke=\"#000000\" cx=\"27\" cy=\"-18\" rx=\"27\" ry=\"18\"/>\n<text text-anchor=\"middle\" x=\"27\" y=\"-14.3\" font-family=\"Times,serif\" font-size=\"14.00\" fill=\"#000000\">init</text>\n</g>\n<!-- predict -->\n<g id=\"node2\" class=\"node\">\n<title>predict</title>\n<ellipse fill=\"none\" stroke=\"#000000\" cx=\"127.3968\" cy=\"-18\" rx=\"36.2938\" ry=\"18\"/>\n<text text-anchor=\"middle\" x=\"127.3968\" y=\"-14.3\" font-family=\"Times,serif\" font-size=\"14.00\" fill=\"#000000\">predict</text>\n</g>\n<!-- init&#45;&gt;predict -->\n<g id=\"edge1\" class=\"edge\">\n<title>init&#45;&gt;predict</title>\n<path fill=\"none\" stroke=\"#000000\" d=\"M54.1688,-18C62.3543,-18 71.5827,-18 80.6596,-18\"/>\n<polygon fill=\"#000000\" stroke=\"#000000\" points=\"80.7795,-21.5001 90.7795,-18 80.7795,-14.5001 80.7795,-21.5001\"/>\n</g>\n<!-- loss -->\n<g id=\"node3\" class=\"node\">\n<title>loss</title>\n<ellipse fill=\"none\" stroke=\"#000000\" cx=\"227.7935\" cy=\"-52\" rx=\"27\" ry=\"18\"/>\n<text text-anchor=\"middle\" x=\"227.7935\" y=\"-48.3\" font-family=\"Times,serif\" font-size=\"14.00\" fill=\"#000000\">loss</text>\n</g>\n<!-- predict&#45;&gt;loss -->\n<g id=\"edge2\" class=\"edge\">\n<title>predict&#45;&gt;loss</title>\n<path fill=\"none\" stroke=\"#000000\" d=\"M157.5191,-28.2011C168.9806,-32.0826 182.1139,-36.5303 193.9014,-40.5222\"/>\n<polygon fill=\"#000000\" stroke=\"#000000\" points=\"192.8259,-43.8532 203.4202,-43.7458 195.0713,-37.2231 192.8259,-43.8532\"/>\n</g>\n<!-- gradient -->\n<g id=\"node4\" class=\"node\">\n<title>gradient</title>\n<ellipse fill=\"none\" stroke=\"#000000\" cx=\"365.7399\" cy=\"-52\" rx=\"40.8928\" ry=\"18\"/>\n<text text-anchor=\"middle\" x=\"365.7399\" y=\"-48.3\" font-family=\"Times,serif\" font-size=\"14.00\" fill=\"#000000\">gradient</text>\n</g>\n<!-- loss&#45;&gt;gradient -->\n<g id=\"edge3\" class=\"edge\">\n<title>loss&#45;&gt;gradient</title>\n<path fill=\"none\" stroke=\"#000000\" d=\"M255.0473,-52C272.0415,-52 294.4481,-52 314.6545,-52\"/>\n<polygon fill=\"#000000\" stroke=\"#000000\" points=\"314.671,-55.5001 324.671,-52 314.671,-48.5001 314.671,-55.5001\"/>\n</g>\n<!-- step -->\n<g id=\"node5\" class=\"node\">\n<title>step</title>\n<ellipse fill=\"none\" stroke=\"#000000\" cx=\"470.6863\" cy=\"-18\" rx=\"27\" ry=\"18\"/>\n<text text-anchor=\"middle\" x=\"470.6863\" y=\"-14.3\" font-family=\"Times,serif\" font-size=\"14.00\" fill=\"#000000\">step</text>\n</g>\n<!-- gradient&#45;&gt;step -->\n<g id=\"edge4\" class=\"edge\">\n<title>gradient&#45;&gt;step</title>\n<path fill=\"none\" stroke=\"#000000\" d=\"M398.9456,-41.2422C410.9558,-37.3512 424.5297,-32.9536 436.6132,-29.0388\"/>\n<polygon fill=\"#000000\" stroke=\"#000000\" points=\"437.9112,-32.2975 446.3457,-25.8857 435.7537,-25.6382 437.9112,-32.2975\"/>\n</g>\n<!-- step&#45;&gt;predict -->\n<g id=\"edge6\" class=\"edge\">\n<title>step&#45;&gt;predict</title>\n<path fill=\"none\" stroke=\"#000000\" d=\"M443.4266,-18C384.9297,-18 246.7861,-18 174.0495,-18\"/>\n<polygon fill=\"#000000\" stroke=\"#000000\" points=\"173.8098,-14.5001 163.8098,-18 173.8097,-21.5001 173.8098,-14.5001\"/>\n<text text-anchor=\"middle\" x=\"289.7935\" y=\"-21.8\" font-family=\"Times,serif\" font-size=\"14.00\" fill=\"#000000\">repeat</text>\n</g>\n<!-- stop -->\n<g id=\"node6\" class=\"node\">\n<title>stop</title>\n<ellipse fill=\"none\" stroke=\"#000000\" cx=\"561.6863\" cy=\"-18\" rx=\"27\" ry=\"18\"/>\n<text text-anchor=\"middle\" x=\"561.6863\" y=\"-14.3\" font-family=\"Times,serif\" font-size=\"14.00\" fill=\"#000000\">stop</text>\n</g>\n<!-- step&#45;&gt;stop -->\n<g id=\"edge5\" class=\"edge\">\n<title>step&#45;&gt;stop</title>\n<path fill=\"none\" stroke=\"#000000\" d=\"M497.9893,-18C506.2676,-18 515.508,-18 524.3268,-18\"/>\n<polygon fill=\"#000000\" stroke=\"#000000\" points=\"524.4026,-21.5001 534.4025,-18 524.4025,-14.5001 524.4026,-21.5001\"/>\n</g>\n</g>\n</svg>\n"
          },
          "metadata": {
            "tags": []
          },
          "execution_count": 11
        }
      ]
    },
    {
      "cell_type": "code",
      "metadata": {
        "id": "rQK5_ISg3IC0",
        "outputId": "2d49e45d-bdca-4d35-a15e-7339165dff77",
        "colab": {
          "base_uri": "https://localhost:8080/"
        }
      },
      "source": [
        "# Number of epochs\n",
        "epochs = 5\n",
        "# setting the learning rate\n",
        "lr = 1\n",
        "# Training loop\n",
        "for i in range(epochs):\n",
        "  for xb, yb in dls[0]:\n",
        "    # Predict\n",
        "    result = linear(xb)\n",
        "    # Calculate the loss\n",
        "    loss = mnist_loss(result, yb)\n",
        "    # Calculate the gradient\n",
        "    loss.backward()\n",
        "    # Take a step\n",
        "    w.data -= w.grad * lr\n",
        "    b.data -= b.grad * lr\n",
        "\n",
        "    # Set the gradient to zero, s the next time we calculate it, it doesn't accumulate\n",
        "    w.grad.zero_()\n",
        "    b.grad.zero_()\n",
        "  # Show the batch accuracy for each epoch\n",
        "  print(tensor([batch_accuracy(linear(xb), yb) for xb, yb in dls[1]]).mean().item(), end=' ')"
      ],
      "execution_count": null,
      "outputs": [
        {
          "output_type": "stream",
          "text": [
            "0.9121212959289551 0.9434308409690857 0.9494490027427673 0.9557371139526367 0.9602308869361877 "
          ],
          "name": "stdout"
        }
      ]
    },
    {
      "cell_type": "markdown",
      "metadata": {
        "id": "6fCEGsvsDucZ"
      },
      "source": [
        "Now let's scale up a bit, and go for the neural net.\n",
        "Which will consist of two linear layers (first and last) and one non-linearity between them (Which in this case is the rectified linear unit)."
      ]
    },
    {
      "cell_type": "code",
      "metadata": {
        "id": "Xq7Yv01lDzRK"
      },
      "source": [
        "def simple_net(xb):\n",
        "  result1 = xb @ w1 + b1 \n",
        "  result2 = F.relu(result1)\n",
        "  return result2 @ w2 + b2"
      ],
      "execution_count": 10,
      "outputs": []
    },
    {
      "cell_type": "code",
      "metadata": {
        "id": "JcIXKMk0EYFp"
      },
      "source": [
        "w1, b1 = init_params(28*28, 30), init_params(30)\n",
        "w2, b2 = init_params(30, 1), init_params(1)"
      ],
      "execution_count": 11,
      "outputs": []
    },
    {
      "cell_type": "markdown",
      "metadata": {
        "id": "9ABpOE9xJNP_"
      },
      "source": [
        "We'll be using the same training loop, but since it's a more \"complex\" model, we'll lower the learning rate and train for more epochs. So we'll just show the accuracy for the last epoch."
      ]
    },
    {
      "cell_type": "code",
      "metadata": {
        "id": "xdR4ifpWIonA",
        "outputId": "72ae3c3f-85f8-4443-e25a-15a2d304cf49",
        "colab": {
          "base_uri": "https://localhost:8080/"
        }
      },
      "source": [
        "# Number of epochs\n",
        "epochs = 40\n",
        "# setting the learning rate\n",
        "lr = 0.1\n",
        "# Training loop\n",
        "for i in range(epochs):\n",
        "  for xb, yb in dls[0]:\n",
        "    # Predict\n",
        "    result = simple_net(xb)\n",
        "    # Calculate the loss\n",
        "    loss = mnist_loss(result, yb)\n",
        "    # Calculate the gradient\n",
        "    loss.backward()\n",
        "    # Take a step\n",
        "    w1.data -= w1.grad * lr\n",
        "    b1.data -= b1.grad * lr\n",
        "    w2.data -= w2.grad * lr\n",
        "    b2.data -= b2.grad * lr\n",
        "\n",
        "    # Set the gradient to zero, s the next time we calculate it, it doesn't accumulate\n",
        "    w1.grad.zero_()\n",
        "    b1.grad.zero_()\n",
        "    w2.grad.zero_()\n",
        "    b2.grad.zero_()\n",
        "\n",
        "# Show the batch accuracy for the last epoch\n",
        "print(tensor([batch_accuracy(simple_net(xb), yb) for xb, yb in dls[1]]).mean().item(), end=' ')"
      ],
      "execution_count": null,
      "outputs": [
        {
          "output_type": "stream",
          "text": [
            "0.953414797782898 "
          ],
          "name": "stdout"
        }
      ]
    },
    {
      "cell_type": "markdown",
      "metadata": {
        "id": "M93sNajBKkPr"
      },
      "source": [
        "### 2. Using existing tools\n",
        "\n",
        "Okay, but all of what we've done so far can already be implemented using *fastai2* and *PyTorch* using just these lines of code."
      ]
    },
    {
      "cell_type": "code",
      "metadata": {
        "id": "rh8A3tE3KzCI"
      },
      "source": [
        "# Create the model, same neural network as above (it will also initialize the params)\n",
        "\n",
        "simple_net = nn.Sequential(\n",
        "    nn.Linear(28*28, 30),\n",
        "    nn.ReLU(),\n",
        "    nn.Linear(30, 1)\n",
        ")\n",
        "\n",
        "# Create the Learner object\n",
        "\n",
        "learn = Learner(dls, simple_net, loss_func=mnist_loss, opt_func=SGD, metrics=batch_accuracy)\n",
        "\n",
        "# Train the model\n",
        "\n",
        "learn.fit(40, lr = 0.1)"
      ],
      "execution_count": null,
      "outputs": []
    },
    {
      "cell_type": "markdown",
      "metadata": {
        "id": "_7zWSLG9MGQs"
      },
      "source": [
        "As you can see we create a **Learner** object, it's a class that handles all the training process for you, you just give it five things:\n",
        "\n",
        "- Your dataloaders object.\n",
        "- The model.\n",
        "- The loss function to optimize.\n",
        "- The optimization function.\n",
        "- The metrics to be displayed (Optionnal).\n",
        "\n",
        "> The optimization function (Optimizer) in *PyTorch* is a function that handles the gradient step for you, e.g. updating the params and setting the gradient to zero."
      ]
    },
    {
      "cell_type": "code",
      "metadata": {
        "id": "RnySwxQoMvxG"
      },
      "source": [
        "# Create the optimizer\n",
        "\n",
        "opt = SGD(simple_net.parameters(), 0.1) # we give it the params and learning rate"
      ],
      "execution_count": null,
      "outputs": []
    },
    {
      "cell_type": "markdown",
      "metadata": {
        "id": "Mp5t0qgmM3_B"
      },
      "source": [
        "Let's try to mimik this by creating our own **Learner** class from scratch."
      ]
    },
    {
      "cell_type": "code",
      "metadata": {
        "id": "PM3Ba5l_3UDY"
      },
      "source": [
        "class MyLearner:\n",
        "\n",
        "  # Initializing the learner\n",
        "\n",
        "  def __init__(self, dls, model, opt_func=SGD, loss_func=mnist_loss, metrics=batch_accuracy): \n",
        "    self.dls = dls \n",
        "    self.model = model \n",
        "    self.opt_func = opt_func \n",
        "    self.loss_func = loss_func \n",
        "    self.metrics = metrics\n",
        "\n",
        "    # We store the metric values in a list (to plot them for example)\n",
        "    self.metric_values = []\n",
        "\n",
        "  # Method for training our model\n",
        "\n",
        "  def fit(self, epochs, lr=1):\n",
        "\n",
        "    # Create the optimizer\n",
        "    opt = self.opt_func(self.model.parameters(), lr)\n",
        "\n",
        "    # Training loop (same as before)\n",
        "    for i in range(epochs):\n",
        "        for xb, yb in self.dls[0]:\n",
        "          result = self.model(xb)\n",
        "          loss = self.loss_func(result, yb)\n",
        "          loss.backward()\n",
        "\n",
        "          # We update the weights using our optimizer\n",
        "          opt.step()\n",
        "\n",
        "          # Setting the gradient to zero using the same optimizer\n",
        "          opt.zero_grad()\n",
        "\n",
        "        # Calculate the metric value, store it and print it for each epoch  \n",
        "        b_accuracy = tensor([self.metrics(self.model(xb), yb) for xb, yb in self.dls[1]]).mean().item()\n",
        "        self.metric_values.append(b_accuracy)\n",
        "        print(round(b_accuracy, 4), end=' ')"
      ],
      "execution_count": 20,
      "outputs": []
    },
    {
      "cell_type": "markdown",
      "metadata": {
        "id": "HV5TR3XPPjVp"
      },
      "source": [
        "Let's try it for a simple linear model. IT WORKS !!!"
      ]
    },
    {
      "cell_type": "code",
      "metadata": {
        "id": "vfHytptUPiuM",
        "outputId": "639c891e-39fb-424b-d32b-8044a7e1ad6b",
        "colab": {
          "base_uri": "https://localhost:8080/",
          "height": 282
        }
      },
      "source": [
        "# Create a MyLearner object\n",
        "my_learner = MyLearner(dls, nn.Linear(28*28, 1), opt_func=SGD, loss_func=mnist_loss, metrics=batch_accuracy)\n",
        "\n",
        "# Train it\n",
        "my_learner.fit(20)\n",
        "\n",
        "# Plot the metric values with each epoch\n",
        "plt.plot(my_learner.metric_values);"
      ],
      "execution_count": 26,
      "outputs": [
        {
          "output_type": "stream",
          "text": [
            "0.9706 0.9749 0.977 0.9779 0.9784 0.9789 0.9794 0.9808 0.9793 0.9798 0.9803 0.9803 0.9813 0.9808 0.9813 0.9814 0.9823 0.9829 0.9823 0.9824 "
          ],
          "name": "stdout"
        },
        {
          "output_type": "display_data",
          "data": {
            "image/png": "[encoded data removed]",
            "text/plain": [
              "<Figure size 432x288 with 1 Axes>"
            ]
          },
          "metadata": {
            "tags": [],
            "needs_background": "light"
          }
        }
      ]
    }
  ]
}