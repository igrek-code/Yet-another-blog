{
  "nbformat": 4,
  "nbformat_minor": 0,
  "metadata": {
    "colab": {
      "name": "cyclical_learning_rates.ipynb",
      "provenance": [],
      "collapsed_sections": []
    },
    "kernelspec": {
      "name": "python3",
      "display_name": "Python 3"
    },
    "accelerator": "GPU"
  },
  "cells": [
    {
      "cell_type": "markdown",
      "metadata": {
        "id": "eMezQPMcBJZV"
      },
      "source": [
        "# Cyclical Learning Rates \n",
        "\n",
        "- toc: true"
      ]
    },
    {
      "cell_type": "code",
      "metadata": {
        "id": "NA8xO1DR2sJ3",
        "outputId": "ddba7cd3-9df7-4bcc-deda-94c6fd6788d0",
        "colab": {
          "base_uri": "https://localhost:8080/"
        }
      },
      "source": [
        "#hide\n",
        "!pip install -Uqq fastbook\n",
        "import fastbook\n",
        "from fastai.vision.all import *\n",
        "from fastbook import *"
      ],
      "execution_count": 1,
      "outputs": [
        {
          "output_type": "stream",
          "text": [
            "\u001b[K     |████████████████████████████████| 727kB 10.8MB/s \n",
            "\u001b[K     |████████████████████████████████| 194kB 50.8MB/s \n",
            "\u001b[K     |████████████████████████████████| 51kB 8.1MB/s \n",
            "\u001b[K     |████████████████████████████████| 51kB 8.1MB/s \n",
            "\u001b[K     |████████████████████████████████| 1.1MB 57.2MB/s \n",
            "\u001b[K     |████████████████████████████████| 51kB 8.8MB/s \n",
            "\u001b[K     |████████████████████████████████| 92kB 11.9MB/s \n",
            "\u001b[K     |████████████████████████████████| 40kB 6.2MB/s \n",
            "\u001b[K     |████████████████████████████████| 51kB 8.7MB/s \n",
            "\u001b[K     |████████████████████████████████| 61kB 9.9MB/s \n",
            "\u001b[K     |████████████████████████████████| 2.6MB 51.4MB/s \n",
            "\u001b[?25h"
          ],
          "name": "stdout"
        }
      ]
    },
    {
      "cell_type": "code",
      "metadata": {
        "id": "ezi49mGC3R-4"
      },
      "source": [
        "#hide\n",
        "path = untar_data(URLs.MNIST)\n",
        "Path.BASE_PATH = path\n",
        "\n",
        "paths = [i for i in (path/'training').ls().sorted()]\n",
        "\n",
        "paths_valid = [i for i in (path/'testing').ls().sorted()]\n",
        "\n",
        "list_of_tensors = []\n",
        "for label_path in paths:\n",
        "  tempo = []\n",
        "  for image in label_path.ls().sorted():\n",
        "    tempo.append(tensor(Image.open(image)))\n",
        "  \n",
        "  list_of_tensors.append(torch.stack(tempo)) \n",
        "\n",
        "train_tensor = torch.cat(list_of_tensors)\n",
        "\n",
        "\n",
        "list_of_tensors_valid = []\n",
        "for label_path in paths_valid:\n",
        "  tempo = []\n",
        "  for image in label_path.ls().sorted():\n",
        "    tempo.append(tensor(Image.open(image)))\n",
        "  \n",
        "  list_of_tensors_valid.append(torch.stack(tempo)) \n",
        "\n",
        "valid_tensor = torch.cat(list_of_tensors_valid)\n",
        "\n",
        "valid_tensor = valid_tensor.view(-1, 28*28)\n",
        "\n",
        "train_tensor = train_tensor.view(-1, 28*28)\n",
        "\n",
        "tempo = []\n",
        "for i in range(10):\n",
        "  tempo.append([i] * len(paths_valid[i].ls()))\n",
        "y_tensors = L(tempo).map(tensor)\n",
        "y_tensors = torch.cat(list(y_tensors))\n",
        "\n",
        "tempo = []\n",
        "for i in range(10):\n",
        "  tempo.append([i] * len(paths[i].ls()))\n",
        "y_train = L(tempo).map(tensor)\n",
        "y_train = torch.cat(list(y_train))\n",
        "\n",
        "# Train dset\n",
        "dset = list(zip(train_tensor.float() / 255, y_train))\n",
        "\n",
        "# Valid dset\n",
        "dset_valid = list(zip(valid_tensor.float() / 255, y_tensors))\n",
        "\n",
        "dl = DataLoader(dset, batch_size=64, shuffle=True)\n",
        "dl_valid = DataLoader(dset_valid, batch_size=64, shuffle=True)"
      ],
      "execution_count": 49,
      "outputs": []
    },
    {
      "cell_type": "markdown",
      "metadata": {
        "id": "RCWer_JY5L9B"
      },
      "source": [
        "## What is it ?\n",
        "\n",
        "It's a technique introduced in this paper: [Cyclical Learning Rates for Training Neural Networks](https://arxiv.org/pdf/1506.01186), written by Smith, Leslie N.\n",
        "\n",
        "That suggests that rather then training a neural network with a fixed learning rate. It is more benefical to train it with a learning rate that cyclically vary between reasonable boundary values (even thought it may harm it during parts of the training, but overall it is more benfical).\n",
        "\n",
        "> From now on we will call the cyclical learning rate policy as **CLR**."
      ]
    },
    {
      "cell_type": "markdown",
      "metadata": {
        "id": "S-3YM1LDsWZr"
      },
      "source": [
        "## Why does it work ?\n",
        "\n",
        "An intuitive understading of why **CLR** works is that when you consider your loss function, sometimes it will have plateaus when the gradient is really small, and that will slow the training process. So by variying the learning rate, you will pass those plateaus more rapidly (when the learning rate gets to the higher values)."
      ]
    },
    {
      "cell_type": "markdown",
      "metadata": {
        "id": "OlBgyVRiU7mj"
      },
      "source": [
        "## Definitions\n",
        "\n",
        "The policy is desribed by the following image. \n",
        "\n",
        "![Triangular learning rate policy, image from the paper](../images/triang_policy.PNG)\n",
        "\n",
        "We have four main things:\n",
        "\n",
        "- Maximum bound (max_lr), the highest learning rate value. \n",
        "- Minimum bound (base_lr), the lowest learning rate value.\n",
        "- Step size, the number of iterations that are needed to go from *base_lr* linearly to *max_lr*.\n",
        "- Cycle is just 2 x Step, going from *min_lr* to *max_lr* then going back to *min_lr*.\n"
      ]
    },
    {
      "cell_type": "markdown",
      "metadata": {
        "id": "Gq2_Rm5Q8KiY"
      },
      "source": [
        "## Implemetation\n",
        "\n",
        "CLR comes in 3 variations, as described in the paper, however in this post we will implement one of them which is called **triangular** (the idea stays the same for the other two, but with somme subtleties).\n",
        "\n",
        "We will implement it by training a simple *Neural Network* using the famous *MNIST* dataset.\n",
        "\n",
        "As mentioned by the author, the accuracy results are quite robust to cycle lengths. So in our case we will just use step size = 2 * number of iterations per epoch.\n",
        "\n",
        "Now the number of iterations per epoch is just :"
      ]
    },
    {
      "cell_type": "code",
      "metadata": {
        "id": "9c5S5wK43cgU"
      },
      "source": [
        "# hide\n",
        "total_num_of_items = len(get_image_files(path.ls()[0]))\n",
        "batch_size = 64"
      ],
      "execution_count": 3,
      "outputs": []
    },
    {
      "cell_type": "code",
      "metadata": {
        "id": "3ndSLnn89ivY",
        "outputId": "f0f502cf-3dec-497f-b7d2-945b51203701",
        "colab": {
          "base_uri": "https://localhost:8080/"
        }
      },
      "source": [
        "number_iterations_per_epoch = np.floor(total_num_of_items / batch_size).astype('int') + 1\n",
        "number_iterations_per_epoch"
      ],
      "execution_count": 4,
      "outputs": [
        {
          "output_type": "execute_result",
          "data": {
            "text/plain": [
              "938"
            ]
          },
          "metadata": {
            "tags": []
          },
          "execution_count": 4
        }
      ]
    },
    {
      "cell_type": "code",
      "metadata": {
        "id": "ZCp8JByf-DSN",
        "outputId": "15bdacc7-3c1e-4bbd-e9b7-089367eb2460",
        "colab": {
          "base_uri": "https://localhost:8080/"
        }
      },
      "source": [
        "step_size = number_iterations_per_epoch * 2\n",
        "step_size"
      ],
      "execution_count": 5,
      "outputs": [
        {
          "output_type": "execute_result",
          "data": {
            "text/plain": [
              "1876"
            ]
          },
          "metadata": {
            "tags": []
          },
          "execution_count": 5
        }
      ]
    },
    {
      "cell_type": "markdown",
      "metadata": {
        "id": "CxaPY7tyxYbp"
      },
      "source": [
        "We'll set the requirements for training (i.e. a loss, the model, and gradient step)"
      ]
    },
    {
      "cell_type": "code",
      "metadata": {
        "id": "XfOmn4ez4fJT"
      },
      "source": [
        "# Create cross entropy loss function\n",
        "loss_func = nn.CrossEntropyLoss()"
      ],
      "execution_count": 6,
      "outputs": []
    },
    {
      "cell_type": "code",
      "metadata": {
        "id": "ZX8y4yv73mFz"
      },
      "source": [
        "def one_iteration():\n",
        "  # set the optimizer that will do the gradient step for us\n",
        "  opt = SGD(simple_net_CLR.parameters(), current_lr)\n",
        "\n",
        "  # Get the activations\n",
        "  preds = simple_net_CLR(xb)\n",
        "\n",
        "  # Calculate the loss\n",
        "  loss = loss_func(preds, yb)\n",
        "\n",
        "  # Calculate the gradient\n",
        "  loss.backward()\n",
        "\n",
        "  # Do the step and set the gradient to zero\n",
        "  opt.step()\n",
        "  opt.zero_grad()"
      ],
      "execution_count": 8,
      "outputs": []
    },
    {
      "cell_type": "markdown",
      "metadata": {
        "id": "_LUf_D2k-QQk"
      },
      "source": [
        "## Choose the boundaries\n",
        "\n",
        "Now something that is really interesting in the paper, is that the author gives us a quite efficient ways of choosing our *base_lr* and *max_lr*. Which he calls **“LR range test”**.\n",
        "\n",
        "The idea is to train our model for a few epochs while increasing the learning rate linearly from a small value to a big value. \n",
        "\n",
        "Then plot the accuracy according to the learning rate. \n",
        "\n",
        "Note the learning rate when the accuracy starts improving, and when the accuracy slows, becomes ragged or starts to fall. And set the first as your *base_lr* and the latter as your *max_lr*."
      ]
    },
    {
      "cell_type": "code",
      "metadata": {
        "id": "t5pm4m7n4fjz"
      },
      "source": [
        "# Create the NN with 2 linear layers and one non linearity (Relu) between them\n",
        "simple_net_CLR = nn.Sequential(\n",
        "    nn.Linear(28*28, 30),\n",
        "    nn.ReLU(),\n",
        "    nn.Linear(30, 10)\n",
        ")"
      ],
      "execution_count": 105,
      "outputs": []
    },
    {
      "cell_type": "code",
      "metadata": {
        "id": "M4VrKkqV4r7G"
      },
      "source": [
        "# Set the starting learning rate and the final one\n",
        "start_lr = 0.0001\n",
        "final_lr = 1\n",
        "\n",
        "# Create a numpy array with 314 values evenly spaced out from start_lr to final_lr\n",
        "lr_range = np.linspace(start_lr, final_lr, 314)\n",
        "\n",
        "# Get our batches of items\n",
        "batches = list(dl)\n",
        "\n",
        "# List where we will store the accuracy after each batch\n",
        "batch_acc_v = []\n",
        "\n",
        "# 314 is just an arbitrary number you can choose whatever works for you\n",
        "for i in range(314):\n",
        "\n",
        "  # Get the batch\n",
        "  xb, yb = batches[i]\n",
        "\n",
        "  # Set the learning rate\n",
        "  current_lr = lr_range[i].item()\n",
        "\n",
        "  # Do the iteration with the given learning rate\n",
        "  one_iteration()\n",
        "\n",
        "  # Calculate the accuracy and save it in the previously created list\n",
        "  ba = tensor([accuracy(simple_net_CLR(xb), yb) for xb, yb in dl_valid]).mean().item()\n",
        "  batch_acc_v.append(ba)"
      ],
      "execution_count": 53,
      "outputs": []
    },
    {
      "cell_type": "code",
      "metadata": {
        "id": "VsSvDXYV4wMf",
        "outputId": "170e746f-f14f-434d-a641-54dad014c0b2",
        "colab": {
          "base_uri": "https://localhost:8080/",
          "height": 265
        }
      },
      "source": [
        "# Plot the accuracy according to learning rate\n",
        "plt.plot(lr_range, batch_acc_v);"
      ],
      "execution_count": 54,
      "outputs": [
        {
          "output_type": "display_data",
          "data": {
            "image/png": "[encoded data removed]",
            "text/plain": [
              "<Figure size 432x288 with 1 Axes>"
            ]
          },
          "metadata": {
            "tags": [],
            "needs_background": "light"
          }
        }
      ]
    },
    {
      "cell_type": "markdown",
      "metadata": {
        "id": "fU9cmt0a_s0b"
      },
      "source": [
        "From the graph, we can reasonably choose base_lr = 0.175, max_lr = 0.25\n",
        "\n",
        "But before we train our model with **CLR**, we'll train another model with a fixed learning rate so we have a baseline to compare to. We'll set the learning rate to 0.2 as it looks like a reasonable choice.\n"
      ]
    },
    {
      "cell_type": "code",
      "metadata": {
        "id": "fUSdpwsG6-6r"
      },
      "source": [
        "# Create base line NN with the same architechture as the previous one\n",
        "base_line_net = nn.Sequential(\n",
        "    nn.Linear(28*28, 30),\n",
        "    nn.ReLU(),\n",
        "    nn.Linear(30, 10)\n",
        ")"
      ],
      "execution_count": 104,
      "outputs": []
    },
    {
      "cell_type": "code",
      "metadata": {
        "id": "KauNdn2ELHlU"
      },
      "source": [
        "#hide\n",
        "def one_iteration_base():\n",
        "  opt = SGD(base_line_net.parameters(), lr)\n",
        "  preds = base_line_net(xb)\n",
        "  loss = loss_func(preds, yb)\n",
        "  loss.backward()\n",
        "  opt.step()\n",
        "  opt.zero_grad()"
      ],
      "execution_count": 65,
      "outputs": []
    },
    {
      "cell_type": "code",
      "metadata": {
        "id": "41GkIlTD7Qau"
      },
      "source": [
        "# Setting the learning rate\n",
        "lr = 0.2\n",
        "\n",
        "# List to store the accuracy after each epoch\n",
        "batch_acc_v = []\n",
        "\n",
        "# Training for 30 epochs\n",
        "for i in range(30):\n",
        "  for xb, yb in dl:\n",
        "\n",
        "    # do one gradient step \n",
        "    one_iteration_base()\n",
        "  \n",
        "  # Calculate accuracy after each epoch\n",
        "  ba = tensor([accuracy(base_line_net(xb), yb) for xb, yb in dl_valid]).mean().item()\n",
        "  batch_acc_v.append(ba)"
      ],
      "execution_count": null,
      "outputs": []
    },
    {
      "cell_type": "code",
      "metadata": {
        "id": "RH9ndp1rNIPZ",
        "outputId": "e87dc0f6-3302-4cd8-bd16-3df3acc8ab5e",
        "colab": {
          "base_uri": "https://localhost:8080/"
        }
      },
      "source": [
        "print('Best accuracy: ', max(batch_acc_v))"
      ],
      "execution_count": 110,
      "outputs": [
        {
          "output_type": "stream",
          "text": [
            "Best accuracy:  0.9675557613372803\n"
          ],
          "name": "stdout"
        }
      ]
    },
    {
      "cell_type": "markdown",
      "metadata": {
        "id": "E0d-czNc1C92"
      },
      "source": [
        "Now that we have everything we need, let's train the model and see the results."
      ]
    },
    {
      "cell_type": "code",
      "metadata": {
        "id": "rEMIiUvz4bHf"
      },
      "source": [
        "# Set the learning rates\n",
        "base_lr = 0.175\n",
        "max_lr = 0.25\n",
        "current_lr = base_lr\n",
        "\n",
        "# Set the values of the learning rates for each part of the cycle\n",
        "values_of_lr_as = np.linspace(base_lr, max_lr, step_size)\n",
        "values_of_lr_ds = np.linspace(max_lr, base_lr, step_size)\n",
        "\n",
        "# To know if we are in the first part of the cycle or the second (ascending / descending)\n",
        "smaller_values = True\n",
        "\n",
        "# when iter == stepsize we will change from ascending to descending ad vice versa\n",
        "iter = 0\n",
        "\n",
        "epochs = 30\n",
        "batch_acc_v = []\n",
        "\n",
        "for i in range(epochs):\n",
        "  \n",
        "  for xb, yb in  dl:\n",
        "    # one iteration\n",
        "\n",
        "    # take gradient step\n",
        "    one_iteration()\n",
        "\n",
        "    # increment bacause we did one iteration\n",
        "    iter += 1\n",
        "\n",
        "    # if yes change from descending to ascending and vice versa\n",
        "    if iter == step_size :\n",
        "      if smaller_values: \n",
        "        smaller_values = False\n",
        "        iter = 1\n",
        "      else: \n",
        "        smaller_values = True\n",
        "        iter = 1\n",
        "\n",
        "    if smaller_values:\n",
        "      current_lr = values_of_lr_as[iter].item()\n",
        "    else:\n",
        "      current_lr = values_of_lr_ds[iter].item()\n",
        "\n",
        "  # Calculate the accuracy after each epoch\n",
        "  ba = tensor([accuracy(simple_net_CLR(xb), yb) for xb, yb in dl_valid]).mean().item()\n",
        "  batch_acc_v.append(ba)"
      ],
      "execution_count": 106,
      "outputs": []
    },
    {
      "cell_type": "code",
      "metadata": {
        "id": "d9cYnnRJMdWu",
        "outputId": "1ba11d7d-422c-446e-f982-fdf85cf63a5a",
        "colab": {
          "base_uri": "https://localhost:8080/"
        }
      },
      "source": [
        "print('Best accuracy: ', max(batch_acc_v))"
      ],
      "execution_count": 109,
      "outputs": [
        {
          "output_type": "stream",
          "text": [
            "Best accuracy:  0.9710389971733093\n"
          ],
          "name": "stdout"
        }
      ]
    },
    {
      "cell_type": "markdown",
      "metadata": {
        "id": "ZSpZZ9ts__II"
      },
      "source": [
        "The **CLR** is a clear winner, as it achieved 97.10 % accuracy as opposed to 96.75 % for the fixed learning rate policy.\n",
        "\n",
        "> The author also suggests to stop the training at the end of the cycle as it is the moment where the learning rate gets to the lower values."
      ]
    }
  ]
}