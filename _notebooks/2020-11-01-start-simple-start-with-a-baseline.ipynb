{
  "nbformat": 4,
  "nbformat_minor": 0,
  "metadata": {
    "colab": {
      "name": "pytorch_image_sgd.ipynb",
      "provenance": [],
      "collapsed_sections": []
    },
    "kernelspec": {
      "name": "python3",
      "display_name": "Python 3"
    },
    "accelerator": "GPU"
  },
  "cells": [
    {
      "cell_type": "markdown",
      "metadata": {
        "id": "FwtBUnuW8y2a"
      },
      "source": [
        "# Start simple, start with a baseline !\n",
        "\n",
        "- toc: true"
      ]
    },
    {
      "cell_type": "markdown",
      "metadata": {
        "id": "4mFI1bXREmPY"
      },
      "source": [
        "## Motivation\n",
        "Don't start with something fancy, complicated as your first solution.  \n",
        "Always start with a baseline (simple solution). Why ? You might ask, well there's two reasons for that :\n",
        "- So you have something to compare to.\n",
        "- Because complicated does not imply effective (your simple solution might be better then the fancy one).  \n",
        "\n",
        "> If you are using colab, make sure to change your runtime to GPU."
      ]
    },
    {
      "cell_type": "code",
      "metadata": {
        "id": "FS9QFsGv7Tl8",
        "outputId": "8aba1910-7c56-4fd9-95f7-b363bae329e2",
        "colab": {
          "base_uri": "https://localhost:8080/"
        }
      },
      "source": [
        "#hide\n",
        "!pip install -Uqq fastbook\n",
        "import fastbook"
      ],
      "execution_count": 1,
      "outputs": [
        {
          "output_type": "stream",
          "text": [
            "\u001b[K     |████████████████████████████████| 727kB 11.1MB/s \n",
            "\u001b[K     |████████████████████████████████| 1.1MB 47.6MB/s \n",
            "\u001b[K     |████████████████████████████████| 194kB 52.2MB/s \n",
            "\u001b[K     |████████████████████████████████| 51kB 9.2MB/s \n",
            "\u001b[K     |████████████████████████████████| 51kB 8.2MB/s \n",
            "\u001b[K     |████████████████████████████████| 51kB 9.7MB/s \n",
            "\u001b[K     |████████████████████████████████| 92kB 13.7MB/s \n",
            "\u001b[K     |████████████████████████████████| 40kB 7.7MB/s \n",
            "\u001b[K     |████████████████████████████████| 51kB 9.9MB/s \n",
            "\u001b[K     |████████████████████████████████| 61kB 10.6MB/s \n",
            "\u001b[K     |████████████████████████████████| 2.6MB 57.1MB/s \n",
            "\u001b[?25h"
          ],
          "name": "stdout"
        }
      ]
    },
    {
      "cell_type": "code",
      "metadata": {
        "id": "1k6DXYHx9tIb"
      },
      "source": [
        "#hide\n",
        "from fastai.vision.all import *\n",
        "from fastbook import *\n",
        "\n",
        "matplotlib.rc('image', cmap='Greys')"
      ],
      "execution_count": 2,
      "outputs": []
    },
    {
      "cell_type": "markdown",
      "metadata": {
        "id": "05I2udlFF_ty"
      },
      "source": [
        "## What will we do ?\n",
        "We will to implement a simple approach to handwritten digit classification **without Deep Learning**. We'll see that it is pretty accurate, and we'll learn some fastai, pytorch, computer vision basics along the way. "
      ]
    },
    {
      "cell_type": "markdown",
      "metadata": {
        "id": "atevkAeaO83z"
      },
      "source": [
        "## How will we do it ? \n",
        "\n",
        "We will use a dataset called **MNIST**, which is a pretty popular dataset containing images of handwritten digits but we'll use a sample of it containing only the digits 3 and 7 (which is provided by fastai).  \n",
        "\n",
        "Our approach consists of two steps:\n",
        "\n",
        "- Obtain the image of perfect 3 and 7.\n",
        "- Compare every picture we have to these perfect 3 and 7, and to whom ever it is closest, we'll attribute it the corresponding label."
      ]
    },
    {
      "cell_type": "markdown",
      "metadata": {
        "id": "ybsxN7_1GySy"
      },
      "source": [
        "## Let's do it !\n",
        "\n",
        "### 1. Create our perfect 3 and 7\n",
        "\n",
        "Okay, before we start let's download our dataset. For that we will use the fastai method *untar_data*, which given an *url*, downloads the dataset (if not already downloaded), and extracts it (if not already exctracted).  \n",
        "We position our selves in the dataset folder by setting the *BASE_PATH*, to the path returned by the method. "
      ]
    },
    {
      "cell_type": "code",
      "metadata": {
        "id": "NlrAJk309y3-",
        "outputId": "e385537e-13ec-44d0-ecf6-9563b7834365",
        "colab": {
          "base_uri": "https://localhost:8080/",
          "height": 17
        }
      },
      "source": [
        "path = untar_data(URLs.MNIST_SAMPLE)\n",
        "Path.BASE_PATH = path"
      ],
      "execution_count": 3,
      "outputs": [
        {
          "output_type": "display_data",
          "data": {
            "text/html": [
              ""
            ],
            "text/plain": [
              "<IPython.core.display.HTML object>"
            ]
          },
          "metadata": {
            "tags": []
          }
        }
      ]
    },
    {
      "cell_type": "markdown",
      "metadata": {
        "id": "XGpQoVmVRuOj"
      },
      "source": [
        "Inside that folder we can see two other folders *valid* and *train*, that contain the validation and training set respectively. You'll see this pretty frequently when you download publically availble datasets (they will be already be split into a *valid* and *training* sets for you)."
      ]
    },
    {
      "cell_type": "code",
      "metadata": {
        "id": "znXxFvopQjOW",
        "outputId": "cce0e9f6-0331-4b88-a108-a6307a229192",
        "colab": {
          "base_uri": "https://localhost:8080/"
        }
      },
      "source": [
        "path.ls()"
      ],
      "execution_count": 4,
      "outputs": [
        {
          "output_type": "execute_result",
          "data": {
            "text/plain": [
              "(#3) [Path('labels.csv'),Path('valid'),Path('train')]"
            ]
          },
          "metadata": {
            "tags": []
          },
          "execution_count": 4
        }
      ]
    },
    {
      "cell_type": "markdown",
      "metadata": {
        "id": "LAmqsU3gSrFF"
      },
      "source": [
        "Now inside the train folder, we have also two other folders 3 and 7 that as you probably guess it contain the respective images of the digits (This is also pretty common in public datasets, the different images will be put in folders named with the corresponding label)."
      ]
    },
    {
      "cell_type": "code",
      "metadata": {
        "id": "4z0JHSnER6A5",
        "outputId": "036731a4-ef1c-423c-cbcd-ca26edec37b0",
        "colab": {
          "base_uri": "https://localhost:8080/"
        }
      },
      "source": [
        "(path/'train').ls()"
      ],
      "execution_count": 5,
      "outputs": [
        {
          "output_type": "execute_result",
          "data": {
            "text/plain": [
              "(#2) [Path('train/3'),Path('train/7')]"
            ]
          },
          "metadata": {
            "tags": []
          },
          "execution_count": 5
        }
      ]
    },
    {
      "cell_type": "markdown",
      "metadata": {
        "id": "JuUtsQZ3UEP4"
      },
      "source": [
        "We get the paths of the different images (sorted), to open them for later. If you notice, there is *(#6131)* before the list, this is because it's not an actual list but rather a fastai object called L, which is a list but with some additional features (another feature is that it displays only the first ten elements of the list). "
      ]
    },
    {
      "cell_type": "code",
      "metadata": {
        "id": "291GDj62Svh5",
        "outputId": "fb0c57cd-5243-4083-860d-4aec632365d6",
        "colab": {
          "base_uri": "https://localhost:8080/"
        }
      },
      "source": [
        "threes = (path/'train'/'3').ls().sorted()\n",
        "sevens = (path/'train'/'7').ls().sorted()\n",
        "threes"
      ],
      "execution_count": 6,
      "outputs": [
        {
          "output_type": "execute_result",
          "data": {
            "text/plain": [
              "(#6131) [Path('train/3/10.png'),Path('train/3/10000.png'),Path('train/3/10011.png'),Path('train/3/10031.png'),Path('train/3/10034.png'),Path('train/3/10042.png'),Path('train/3/10052.png'),Path('train/3/1007.png'),Path('train/3/10074.png'),Path('train/3/10091.png')...]"
            ]
          },
          "metadata": {
            "tags": []
          },
          "execution_count": 6
        }
      ]
    },
    {
      "cell_type": "markdown",
      "metadata": {
        "id": "rxhEqHbCU_sn"
      },
      "source": [
        "Let's open one image for each label, to ensure that they are actuall images of 3 and 7."
      ]
    },
    {
      "cell_type": "code",
      "metadata": {
        "id": "1F6kE5uMUBel",
        "outputId": "77d430d8-fabd-4fea-9009-54bf93351729",
        "colab": {
          "base_uri": "https://localhost:8080/",
          "height": 45
        }
      },
      "source": [
        "im3_path = threes[1]\n",
        "im3 = Image.open(im3_path)\n",
        "im3"
      ],
      "execution_count": 7,
      "outputs": [
        {
          "output_type": "execute_result",
          "data": {
            "image/png": "[encoded data removed]",
            "text/plain": [
              "<PIL.PngImagePlugin.PngImageFile image mode=L size=28x28 at 0x7F14FEC497B8>"
            ]
          },
          "metadata": {
            "tags": []
          },
          "execution_count": 7
        }
      ]
    },
    {
      "cell_type": "code",
      "metadata": {
        "id": "nEpds3eDVOfy",
        "outputId": "7606c135-b0bd-4361-f0c0-8710600c6d11",
        "colab": {
          "base_uri": "https://localhost:8080/",
          "height": 45
        }
      },
      "source": [
        "im7_path = sevens[4]\n",
        "im7 = Image.open(im7_path)\n",
        "im7"
      ],
      "execution_count": 8,
      "outputs": [
        {
          "output_type": "execute_result",
          "data": {
            "image/png": "[encoded data removed]",
            "text/plain": [
              "<PIL.PngImagePlugin.PngImageFile image mode=L size=28x28 at 0x7F14FE474320>"
            ]
          },
          "metadata": {
            "tags": []
          },
          "execution_count": 8
        }
      ]
    },
    {
      "cell_type": "markdown",
      "metadata": {
        "id": "IyY4sGBkVf-v"
      },
      "source": [
        "\n",
        "#### Images are numbers ?\n",
        "\n",
        "Before we go any further, i need to tell you that an image for a computer is just a bunch of numbers.  \n",
        "\n",
        "To be more precise, it is a composed of pixels. To simplify things (and this is the case for our dataset), we'll take an example of gray scale images (images containing only black, white, and shades of grey in between).\n",
        "Every pixel makes a tiny bit of the image where the pixel takes a value (between 0 and 255) and that value tells to the computer how to display that particular pixel. Aseembled together they form the image.  "
      ]
    },
    {
      "cell_type": "markdown",
      "metadata": {
        "id": "7Snv1gL5X0CE"
      },
      "source": [
        "Okay, let's turn our image into a *Numpy* array (which is just an array but wth **super powers**, and *Numpy* is just the most used python module for *Numerical computing*).\n",
        "\n",
        "The thing between brackets is called **slicing**, and it's telling *Numpy* that we want to display the fourth row/column up to but not including the thenth one.\n",
        "\n",
        "As we can see, an image is just a bunch of numbers."
      ]
    },
    {
      "cell_type": "code",
      "metadata": {
        "id": "kggYWvyRVUIq",
        "outputId": "7cbf47a5-6845-4bee-a8b2-dcd3a4991fed",
        "colab": {
          "base_uri": "https://localhost:8080/"
        }
      },
      "source": [
        "array(im3)[4:10,4:10]"
      ],
      "execution_count": 9,
      "outputs": [
        {
          "output_type": "execute_result",
          "data": {
            "text/plain": [
              "array([[  0,   0,   0,   0,   0,   0],\n",
              "       [  0,   0,   0,   0,   0,  29],\n",
              "       [  0,   0,   0,  48, 166, 224],\n",
              "       [  0,  93, 244, 249, 253, 187],\n",
              "       [  0, 107, 253, 253, 230,  48],\n",
              "       [  0,   3,  20,  20,  15,   0]], dtype=uint8)"
            ]
          },
          "metadata": {
            "tags": []
          },
          "execution_count": 9
        }
      ]
    },
    {
      "cell_type": "markdown",
      "metadata": {
        "id": "e_DC_OrZZ4o_"
      },
      "source": [
        "We'll do the same thing, but instead of an array, we'll turn our image into a *PyTorch* **tensor**, which behaves much like a *Numpy* array but has the benefit to do our *operations* in the **GPU** (it's a lot, i mean a lot **faster**).\n",
        "\n",
        "And the *dtype* in the end is the type of data in the tensor/array, which in this case is an unsigned 8 bit integer (0 to 255)."
      ]
    },
    {
      "cell_type": "code",
      "metadata": {
        "id": "qHYnZMOrZbWs",
        "outputId": "eca003d8-65cc-41bd-a2b6-7d09534b5abc",
        "colab": {
          "base_uri": "https://localhost:8080/"
        }
      },
      "source": [
        "tensor(im3)[4:10,4:10]"
      ],
      "execution_count": 10,
      "outputs": [
        {
          "output_type": "execute_result",
          "data": {
            "text/plain": [
              "tensor([[  0,   0,   0,   0,   0,   0],\n",
              "        [  0,   0,   0,   0,   0,  29],\n",
              "        [  0,   0,   0,  48, 166, 224],\n",
              "        [  0,  93, 244, 249, 253, 187],\n",
              "        [  0, 107, 253, 253, 230,  48],\n",
              "        [  0,   3,  20,  20,  15,   0]], dtype=torch.uint8)"
            ]
          },
          "metadata": {
            "tags": []
          },
          "execution_count": 10
        }
      ]
    },
    {
      "cell_type": "markdown",
      "metadata": {
        "id": "HpP6hx62axI7"
      },
      "source": [
        "To better visualize how a computer display an image, we'll turn our tensor containing the pixel values of our image into a *DataFrame* (it's an object provided by the **Pandas** module. For now, you just need to know that it's a table of values). With each value (pixel) in the table displayed with the corresponding color (0 for white, 255 for black, values in between for shades of grey)."
      ]
    },
    {
      "cell_type": "code",
      "metadata": {
        "id": "SYsHU3gQZ4EN",
        "outputId": "493ec549-6ee8-4abd-a29d-ff8cdd726f31",
        "colab": {
          "base_uri": "https://localhost:8080/",
          "height": 271
        }
      },
      "source": [
        "im3_t = tensor(im3)\n",
        "df = pd.DataFrame(im3_t[4:15,4:22])\n",
        "df.style.set_properties(**{'font-size':'6pt'}).background_gradient('Greys')"
      ],
      "execution_count": 11,
      "outputs": [
        {
          "output_type": "execute_result",
          "data": {
            "text/html": [
              "<style  type=\"text/css\" >\n",
              "#T_8dbbcc2c_1c19_11eb_8a7d_0242ac1c0002row0_col0,#T_8dbbcc2c_1c19_11eb_8a7d_0242ac1c0002row0_col1,#T_8dbbcc2c_1c19_11eb_8a7d_0242ac1c0002row0_col2,#T_8dbbcc2c_1c19_11eb_8a7d_0242ac1c0002row0_col3,#T_8dbbcc2c_1c19_11eb_8a7d_0242ac1c0002row0_col4,#T_8dbbcc2c_1c19_11eb_8a7d_0242ac1c0002row0_col5,#T_8dbbcc2c_1c19_11eb_8a7d_0242ac1c0002row0_col6,#T_8dbbcc2c_1c19_11eb_8a7d_0242ac1c0002row0_col7,#T_8dbbcc2c_1c19_11eb_8a7d_0242ac1c0002row0_col8,#T_8dbbcc2c_1c19_11eb_8a7d_0242ac1c0002row0_col9,#T_8dbbcc2c_1c19_11eb_8a7d_0242ac1c0002row0_col10,#T_8dbbcc2c_1c19_11eb_8a7d_0242ac1c0002row0_col11,#T_8dbbcc2c_1c19_11eb_8a7d_0242ac1c0002row0_col12,#T_8dbbcc2c_1c19_11eb_8a7d_0242ac1c0002row0_col13,#T_8dbbcc2c_1c19_11eb_8a7d_0242ac1c0002row0_col14,#T_8dbbcc2c_1c19_11eb_8a7d_0242ac1c0002row0_col15,#T_8dbbcc2c_1c19_11eb_8a7d_0242ac1c0002row0_col16,#T_8dbbcc2c_1c19_11eb_8a7d_0242ac1c0002row0_col17,#T_8dbbcc2c_1c19_11eb_8a7d_0242ac1c0002row1_col0,#T_8dbbcc2c_1c19_11eb_8a7d_0242ac1c0002row1_col1,#T_8dbbcc2c_1c19_11eb_8a7d_0242ac1c0002row1_col2,#T_8dbbcc2c_1c19_11eb_8a7d_0242ac1c0002row1_col3,#T_8dbbcc2c_1c19_11eb_8a7d_0242ac1c0002row1_col4,#T_8dbbcc2c_1c19_11eb_8a7d_0242ac1c0002row1_col15,#T_8dbbcc2c_1c19_11eb_8a7d_0242ac1c0002row1_col16,#T_8dbbcc2c_1c19_11eb_8a7d_0242ac1c0002row1_col17,#T_8dbbcc2c_1c19_11eb_8a7d_0242ac1c0002row2_col0,#T_8dbbcc2c_1c19_11eb_8a7d_0242ac1c0002row2_col1,#T_8dbbcc2c_1c19_11eb_8a7d_0242ac1c0002row2_col2,#T_8dbbcc2c_1c19_11eb_8a7d_0242ac1c0002row2_col15,#T_8dbbcc2c_1c19_11eb_8a7d_0242ac1c0002row2_col16,#T_8dbbcc2c_1c19_11eb_8a7d_0242ac1c0002row2_col17,#T_8dbbcc2c_1c19_11eb_8a7d_0242ac1c0002row3_col0,#T_8dbbcc2c_1c19_11eb_8a7d_0242ac1c0002row3_col15,#T_8dbbcc2c_1c19_11eb_8a7d_0242ac1c0002row3_col16,#T_8dbbcc2c_1c19_11eb_8a7d_0242ac1c0002row3_col17,#T_8dbbcc2c_1c19_11eb_8a7d_0242ac1c0002row4_col0,#T_8dbbcc2c_1c19_11eb_8a7d_0242ac1c0002row4_col6,#T_8dbbcc2c_1c19_11eb_8a7d_0242ac1c0002row4_col7,#T_8dbbcc2c_1c19_11eb_8a7d_0242ac1c0002row4_col8,#T_8dbbcc2c_1c19_11eb_8a7d_0242ac1c0002row4_col9,#T_8dbbcc2c_1c19_11eb_8a7d_0242ac1c0002row4_col10,#T_8dbbcc2c_1c19_11eb_8a7d_0242ac1c0002row4_col15,#T_8dbbcc2c_1c19_11eb_8a7d_0242ac1c0002row4_col16,#T_8dbbcc2c_1c19_11eb_8a7d_0242ac1c0002row4_col17,#T_8dbbcc2c_1c19_11eb_8a7d_0242ac1c0002row5_col0,#T_8dbbcc2c_1c19_11eb_8a7d_0242ac1c0002row5_col5,#T_8dbbcc2c_1c19_11eb_8a7d_0242ac1c0002row5_col6,#T_8dbbcc2c_1c19_11eb_8a7d_0242ac1c0002row5_col7,#T_8dbbcc2c_1c19_11eb_8a7d_0242ac1c0002row5_col8,#T_8dbbcc2c_1c19_11eb_8a7d_0242ac1c0002row5_col9,#T_8dbbcc2c_1c19_11eb_8a7d_0242ac1c0002row5_col15,#T_8dbbcc2c_1c19_11eb_8a7d_0242ac1c0002row5_col16,#T_8dbbcc2c_1c19_11eb_8a7d_0242ac1c0002row5_col17,#T_8dbbcc2c_1c19_11eb_8a7d_0242ac1c0002row6_col0,#T_8dbbcc2c_1c19_11eb_8a7d_0242ac1c0002row6_col1,#T_8dbbcc2c_1c19_11eb_8a7d_0242ac1c0002row6_col2,#T_8dbbcc2c_1c19_11eb_8a7d_0242ac1c0002row6_col3,#T_8dbbcc2c_1c19_11eb_8a7d_0242ac1c0002row6_col4,#T_8dbbcc2c_1c19_11eb_8a7d_0242ac1c0002row6_col5,#T_8dbbcc2c_1c19_11eb_8a7d_0242ac1c0002row6_col6,#T_8dbbcc2c_1c19_11eb_8a7d_0242ac1c0002row6_col7,#T_8dbbcc2c_1c19_11eb_8a7d_0242ac1c0002row6_col8,#T_8dbbcc2c_1c19_11eb_8a7d_0242ac1c0002row6_col9,#T_8dbbcc2c_1c19_11eb_8a7d_0242ac1c0002row6_col14,#T_8dbbcc2c_1c19_11eb_8a7d_0242ac1c0002row6_col15,#T_8dbbcc2c_1c19_11eb_8a7d_0242ac1c0002row6_col16,#T_8dbbcc2c_1c19_11eb_8a7d_0242ac1c0002row6_col17,#T_8dbbcc2c_1c19_11eb_8a7d_0242ac1c0002row7_col0,#T_8dbbcc2c_1c19_11eb_8a7d_0242ac1c0002row7_col1,#T_8dbbcc2c_1c19_11eb_8a7d_0242ac1c0002row7_col2,#T_8dbbcc2c_1c19_11eb_8a7d_0242ac1c0002row7_col3,#T_8dbbcc2c_1c19_11eb_8a7d_0242ac1c0002row7_col4,#T_8dbbcc2c_1c19_11eb_8a7d_0242ac1c0002row7_col5,#T_8dbbcc2c_1c19_11eb_8a7d_0242ac1c0002row7_col6,#T_8dbbcc2c_1c19_11eb_8a7d_0242ac1c0002row7_col13,#T_8dbbcc2c_1c19_11eb_8a7d_0242ac1c0002row7_col14,#T_8dbbcc2c_1c19_11eb_8a7d_0242ac1c0002row7_col15,#T_8dbbcc2c_1c19_11eb_8a7d_0242ac1c0002row7_col16,#T_8dbbcc2c_1c19_11eb_8a7d_0242ac1c0002row7_col17,#T_8dbbcc2c_1c19_11eb_8a7d_0242ac1c0002row8_col0,#T_8dbbcc2c_1c19_11eb_8a7d_0242ac1c0002row8_col1,#T_8dbbcc2c_1c19_11eb_8a7d_0242ac1c0002row8_col2,#T_8dbbcc2c_1c19_11eb_8a7d_0242ac1c0002row8_col3,#T_8dbbcc2c_1c19_11eb_8a7d_0242ac1c0002row8_col4,#T_8dbbcc2c_1c19_11eb_8a7d_0242ac1c0002row8_col13,#T_8dbbcc2c_1c19_11eb_8a7d_0242ac1c0002row8_col14,#T_8dbbcc2c_1c19_11eb_8a7d_0242ac1c0002row8_col15,#T_8dbbcc2c_1c19_11eb_8a7d_0242ac1c0002row8_col16,#T_8dbbcc2c_1c19_11eb_8a7d_0242ac1c0002row8_col17,#T_8dbbcc2c_1c19_11eb_8a7d_0242ac1c0002row9_col0,#T_8dbbcc2c_1c19_11eb_8a7d_0242ac1c0002row9_col1,#T_8dbbcc2c_1c19_11eb_8a7d_0242ac1c0002row9_col2,#T_8dbbcc2c_1c19_11eb_8a7d_0242ac1c0002row9_col3,#T_8dbbcc2c_1c19_11eb_8a7d_0242ac1c0002row9_col4,#T_8dbbcc2c_1c19_11eb_8a7d_0242ac1c0002row9_col16,#T_8dbbcc2c_1c19_11eb_8a7d_0242ac1c0002row9_col17,#T_8dbbcc2c_1c19_11eb_8a7d_0242ac1c0002row10_col0,#T_8dbbcc2c_1c19_11eb_8a7d_0242ac1c0002row10_col1,#T_8dbbcc2c_1c19_11eb_8a7d_0242ac1c0002row10_col2,#T_8dbbcc2c_1c19_11eb_8a7d_0242ac1c0002row10_col3,#T_8dbbcc2c_1c19_11eb_8a7d_0242ac1c0002row10_col4,#T_8dbbcc2c_1c19_11eb_8a7d_0242ac1c0002row10_col5,#T_8dbbcc2c_1c19_11eb_8a7d_0242ac1c0002row10_col6,#T_8dbbcc2c_1c19_11eb_8a7d_0242ac1c0002row10_col17{\n",
              "            font-size:  6pt;\n",
              "            background-color:  #ffffff;\n",
              "            color:  #000000;\n",
              "        }#T_8dbbcc2c_1c19_11eb_8a7d_0242ac1c0002row1_col5{\n",
              "            font-size:  6pt;\n",
              "            background-color:  #efefef;\n",
              "            color:  #000000;\n",
              "        }#T_8dbbcc2c_1c19_11eb_8a7d_0242ac1c0002row1_col6,#T_8dbbcc2c_1c19_11eb_8a7d_0242ac1c0002row1_col13{\n",
              "            font-size:  6pt;\n",
              "            background-color:  #7c7c7c;\n",
              "            color:  #000000;\n",
              "        }#T_8dbbcc2c_1c19_11eb_8a7d_0242ac1c0002row1_col7{\n",
              "            font-size:  6pt;\n",
              "            background-color:  #4a4a4a;\n",
              "            color:  #f1f1f1;\n",
              "        }#T_8dbbcc2c_1c19_11eb_8a7d_0242ac1c0002row1_col8,#T_8dbbcc2c_1c19_11eb_8a7d_0242ac1c0002row1_col9,#T_8dbbcc2c_1c19_11eb_8a7d_0242ac1c0002row1_col10,#T_8dbbcc2c_1c19_11eb_8a7d_0242ac1c0002row2_col5,#T_8dbbcc2c_1c19_11eb_8a7d_0242ac1c0002row2_col6,#T_8dbbcc2c_1c19_11eb_8a7d_0242ac1c0002row2_col7,#T_8dbbcc2c_1c19_11eb_8a7d_0242ac1c0002row2_col11,#T_8dbbcc2c_1c19_11eb_8a7d_0242ac1c0002row2_col12,#T_8dbbcc2c_1c19_11eb_8a7d_0242ac1c0002row2_col13,#T_8dbbcc2c_1c19_11eb_8a7d_0242ac1c0002row3_col4,#T_8dbbcc2c_1c19_11eb_8a7d_0242ac1c0002row3_col12,#T_8dbbcc2c_1c19_11eb_8a7d_0242ac1c0002row3_col13,#T_8dbbcc2c_1c19_11eb_8a7d_0242ac1c0002row4_col1,#T_8dbbcc2c_1c19_11eb_8a7d_0242ac1c0002row4_col2,#T_8dbbcc2c_1c19_11eb_8a7d_0242ac1c0002row4_col3,#T_8dbbcc2c_1c19_11eb_8a7d_0242ac1c0002row4_col12,#T_8dbbcc2c_1c19_11eb_8a7d_0242ac1c0002row4_col13,#T_8dbbcc2c_1c19_11eb_8a7d_0242ac1c0002row5_col12,#T_8dbbcc2c_1c19_11eb_8a7d_0242ac1c0002row6_col11,#T_8dbbcc2c_1c19_11eb_8a7d_0242ac1c0002row9_col11,#T_8dbbcc2c_1c19_11eb_8a7d_0242ac1c0002row10_col11,#T_8dbbcc2c_1c19_11eb_8a7d_0242ac1c0002row10_col12,#T_8dbbcc2c_1c19_11eb_8a7d_0242ac1c0002row10_col13,#T_8dbbcc2c_1c19_11eb_8a7d_0242ac1c0002row10_col14,#T_8dbbcc2c_1c19_11eb_8a7d_0242ac1c0002row10_col15,#T_8dbbcc2c_1c19_11eb_8a7d_0242ac1c0002row10_col16{\n",
              "            font-size:  6pt;\n",
              "            background-color:  #000000;\n",
              "            color:  #f1f1f1;\n",
              "        }#T_8dbbcc2c_1c19_11eb_8a7d_0242ac1c0002row1_col11{\n",
              "            font-size:  6pt;\n",
              "            background-color:  #606060;\n",
              "            color:  #f1f1f1;\n",
              "        }#T_8dbbcc2c_1c19_11eb_8a7d_0242ac1c0002row1_col12{\n",
              "            font-size:  6pt;\n",
              "            background-color:  #4d4d4d;\n",
              "            color:  #f1f1f1;\n",
              "        }#T_8dbbcc2c_1c19_11eb_8a7d_0242ac1c0002row1_col14{\n",
              "            font-size:  6pt;\n",
              "            background-color:  #bbbbbb;\n",
              "            color:  #000000;\n",
              "        }#T_8dbbcc2c_1c19_11eb_8a7d_0242ac1c0002row2_col3{\n",
              "            font-size:  6pt;\n",
              "            background-color:  #e4e4e4;\n",
              "            color:  #000000;\n",
              "        }#T_8dbbcc2c_1c19_11eb_8a7d_0242ac1c0002row2_col4,#T_8dbbcc2c_1c19_11eb_8a7d_0242ac1c0002row8_col6{\n",
              "            font-size:  6pt;\n",
              "            background-color:  #6b6b6b;\n",
              "            color:  #000000;\n",
              "        }#T_8dbbcc2c_1c19_11eb_8a7d_0242ac1c0002row2_col8,#T_8dbbcc2c_1c19_11eb_8a7d_0242ac1c0002row2_col14,#T_8dbbcc2c_1c19_11eb_8a7d_0242ac1c0002row3_col14{\n",
              "            font-size:  6pt;\n",
              "            background-color:  #171717;\n",
              "            color:  #f1f1f1;\n",
              "        }#T_8dbbcc2c_1c19_11eb_8a7d_0242ac1c0002row2_col9,#T_8dbbcc2c_1c19_11eb_8a7d_0242ac1c0002row3_col11{\n",
              "            font-size:  6pt;\n",
              "            background-color:  #4b4b4b;\n",
              "            color:  #f1f1f1;\n",
              "        }#T_8dbbcc2c_1c19_11eb_8a7d_0242ac1c0002row2_col10,#T_8dbbcc2c_1c19_11eb_8a7d_0242ac1c0002row7_col10,#T_8dbbcc2c_1c19_11eb_8a7d_0242ac1c0002row8_col8,#T_8dbbcc2c_1c19_11eb_8a7d_0242ac1c0002row8_col10,#T_8dbbcc2c_1c19_11eb_8a7d_0242ac1c0002row9_col8,#T_8dbbcc2c_1c19_11eb_8a7d_0242ac1c0002row9_col10{\n",
              "            font-size:  6pt;\n",
              "            background-color:  #010101;\n",
              "            color:  #f1f1f1;\n",
              "        }#T_8dbbcc2c_1c19_11eb_8a7d_0242ac1c0002row3_col1{\n",
              "            font-size:  6pt;\n",
              "            background-color:  #272727;\n",
              "            color:  #f1f1f1;\n",
              "        }#T_8dbbcc2c_1c19_11eb_8a7d_0242ac1c0002row3_col2{\n",
              "            font-size:  6pt;\n",
              "            background-color:  #0a0a0a;\n",
              "            color:  #f1f1f1;\n",
              "        }#T_8dbbcc2c_1c19_11eb_8a7d_0242ac1c0002row3_col3{\n",
              "            font-size:  6pt;\n",
              "            background-color:  #050505;\n",
              "            color:  #f1f1f1;\n",
              "        }#T_8dbbcc2c_1c19_11eb_8a7d_0242ac1c0002row3_col5{\n",
              "            font-size:  6pt;\n",
              "            background-color:  #333333;\n",
              "            color:  #f1f1f1;\n",
              "        }#T_8dbbcc2c_1c19_11eb_8a7d_0242ac1c0002row3_col6{\n",
              "            font-size:  6pt;\n",
              "            background-color:  #e6e6e6;\n",
              "            color:  #000000;\n",
              "        }#T_8dbbcc2c_1c19_11eb_8a7d_0242ac1c0002row3_col7,#T_8dbbcc2c_1c19_11eb_8a7d_0242ac1c0002row3_col10{\n",
              "            font-size:  6pt;\n",
              "            background-color:  #fafafa;\n",
              "            color:  #000000;\n",
              "        }#T_8dbbcc2c_1c19_11eb_8a7d_0242ac1c0002row3_col8{\n",
              "            font-size:  6pt;\n",
              "            background-color:  #fbfbfb;\n",
              "            color:  #000000;\n",
              "        }#T_8dbbcc2c_1c19_11eb_8a7d_0242ac1c0002row3_col9{\n",
              "            font-size:  6pt;\n",
              "            background-color:  #fdfdfd;\n",
              "            color:  #000000;\n",
              "        }#T_8dbbcc2c_1c19_11eb_8a7d_0242ac1c0002row4_col4{\n",
              "            font-size:  6pt;\n",
              "            background-color:  #1b1b1b;\n",
              "            color:  #f1f1f1;\n",
              "        }#T_8dbbcc2c_1c19_11eb_8a7d_0242ac1c0002row4_col5{\n",
              "            font-size:  6pt;\n",
              "            background-color:  #e0e0e0;\n",
              "            color:  #000000;\n",
              "        }#T_8dbbcc2c_1c19_11eb_8a7d_0242ac1c0002row4_col11{\n",
              "            font-size:  6pt;\n",
              "            background-color:  #4e4e4e;\n",
              "            color:  #f1f1f1;\n",
              "        }#T_8dbbcc2c_1c19_11eb_8a7d_0242ac1c0002row4_col14{\n",
              "            font-size:  6pt;\n",
              "            background-color:  #767676;\n",
              "            color:  #000000;\n",
              "        }#T_8dbbcc2c_1c19_11eb_8a7d_0242ac1c0002row5_col1{\n",
              "            font-size:  6pt;\n",
              "            background-color:  #fcfcfc;\n",
              "            color:  #000000;\n",
              "        }#T_8dbbcc2c_1c19_11eb_8a7d_0242ac1c0002row5_col2,#T_8dbbcc2c_1c19_11eb_8a7d_0242ac1c0002row5_col3{\n",
              "            font-size:  6pt;\n",
              "            background-color:  #f6f6f6;\n",
              "            color:  #000000;\n",
              "        }#T_8dbbcc2c_1c19_11eb_8a7d_0242ac1c0002row5_col4,#T_8dbbcc2c_1c19_11eb_8a7d_0242ac1c0002row7_col7{\n",
              "            font-size:  6pt;\n",
              "            background-color:  #f8f8f8;\n",
              "            color:  #000000;\n",
              "        }#T_8dbbcc2c_1c19_11eb_8a7d_0242ac1c0002row5_col10,#T_8dbbcc2c_1c19_11eb_8a7d_0242ac1c0002row10_col7{\n",
              "            font-size:  6pt;\n",
              "            background-color:  #e8e8e8;\n",
              "            color:  #000000;\n",
              "        }#T_8dbbcc2c_1c19_11eb_8a7d_0242ac1c0002row5_col11{\n",
              "            font-size:  6pt;\n",
              "            background-color:  #222222;\n",
              "            color:  #f1f1f1;\n",
              "        }#T_8dbbcc2c_1c19_11eb_8a7d_0242ac1c0002row5_col13,#T_8dbbcc2c_1c19_11eb_8a7d_0242ac1c0002row6_col12{\n",
              "            font-size:  6pt;\n",
              "            background-color:  #090909;\n",
              "            color:  #f1f1f1;\n",
              "        }#T_8dbbcc2c_1c19_11eb_8a7d_0242ac1c0002row5_col14{\n",
              "            font-size:  6pt;\n",
              "            background-color:  #d0d0d0;\n",
              "            color:  #000000;\n",
              "        }#T_8dbbcc2c_1c19_11eb_8a7d_0242ac1c0002row6_col10,#T_8dbbcc2c_1c19_11eb_8a7d_0242ac1c0002row7_col11,#T_8dbbcc2c_1c19_11eb_8a7d_0242ac1c0002row9_col6{\n",
              "            font-size:  6pt;\n",
              "            background-color:  #060606;\n",
              "            color:  #f1f1f1;\n",
              "        }#T_8dbbcc2c_1c19_11eb_8a7d_0242ac1c0002row6_col13{\n",
              "            font-size:  6pt;\n",
              "            background-color:  #979797;\n",
              "            color:  #000000;\n",
              "        }#T_8dbbcc2c_1c19_11eb_8a7d_0242ac1c0002row7_col8{\n",
              "            font-size:  6pt;\n",
              "            background-color:  #b6b6b6;\n",
              "            color:  #000000;\n",
              "        }#T_8dbbcc2c_1c19_11eb_8a7d_0242ac1c0002row7_col9{\n",
              "            font-size:  6pt;\n",
              "            background-color:  #252525;\n",
              "            color:  #f1f1f1;\n",
              "        }#T_8dbbcc2c_1c19_11eb_8a7d_0242ac1c0002row7_col12{\n",
              "            font-size:  6pt;\n",
              "            background-color:  #999999;\n",
              "            color:  #000000;\n",
              "        }#T_8dbbcc2c_1c19_11eb_8a7d_0242ac1c0002row8_col5{\n",
              "            font-size:  6pt;\n",
              "            background-color:  #f9f9f9;\n",
              "            color:  #000000;\n",
              "        }#T_8dbbcc2c_1c19_11eb_8a7d_0242ac1c0002row8_col7{\n",
              "            font-size:  6pt;\n",
              "            background-color:  #101010;\n",
              "            color:  #f1f1f1;\n",
              "        }#T_8dbbcc2c_1c19_11eb_8a7d_0242ac1c0002row8_col9,#T_8dbbcc2c_1c19_11eb_8a7d_0242ac1c0002row9_col9{\n",
              "            font-size:  6pt;\n",
              "            background-color:  #020202;\n",
              "            color:  #f1f1f1;\n",
              "        }#T_8dbbcc2c_1c19_11eb_8a7d_0242ac1c0002row8_col11{\n",
              "            font-size:  6pt;\n",
              "            background-color:  #545454;\n",
              "            color:  #f1f1f1;\n",
              "        }#T_8dbbcc2c_1c19_11eb_8a7d_0242ac1c0002row8_col12{\n",
              "            font-size:  6pt;\n",
              "            background-color:  #f1f1f1;\n",
              "            color:  #000000;\n",
              "        }#T_8dbbcc2c_1c19_11eb_8a7d_0242ac1c0002row9_col5{\n",
              "            font-size:  6pt;\n",
              "            background-color:  #f7f7f7;\n",
              "            color:  #000000;\n",
              "        }#T_8dbbcc2c_1c19_11eb_8a7d_0242ac1c0002row9_col7{\n",
              "            font-size:  6pt;\n",
              "            background-color:  #030303;\n",
              "            color:  #f1f1f1;\n",
              "        }#T_8dbbcc2c_1c19_11eb_8a7d_0242ac1c0002row9_col12{\n",
              "            font-size:  6pt;\n",
              "            background-color:  #181818;\n",
              "            color:  #f1f1f1;\n",
              "        }#T_8dbbcc2c_1c19_11eb_8a7d_0242ac1c0002row9_col13{\n",
              "            font-size:  6pt;\n",
              "            background-color:  #303030;\n",
              "            color:  #f1f1f1;\n",
              "        }#T_8dbbcc2c_1c19_11eb_8a7d_0242ac1c0002row9_col14{\n",
              "            font-size:  6pt;\n",
              "            background-color:  #a9a9a9;\n",
              "            color:  #000000;\n",
              "        }#T_8dbbcc2c_1c19_11eb_8a7d_0242ac1c0002row9_col15{\n",
              "            font-size:  6pt;\n",
              "            background-color:  #fefefe;\n",
              "            color:  #000000;\n",
              "        }#T_8dbbcc2c_1c19_11eb_8a7d_0242ac1c0002row10_col8,#T_8dbbcc2c_1c19_11eb_8a7d_0242ac1c0002row10_col9{\n",
              "            font-size:  6pt;\n",
              "            background-color:  #bababa;\n",
              "            color:  #000000;\n",
              "        }#T_8dbbcc2c_1c19_11eb_8a7d_0242ac1c0002row10_col10{\n",
              "            font-size:  6pt;\n",
              "            background-color:  #393939;\n",
              "            color:  #f1f1f1;\n",
              "        }</style><table id=\"T_8dbbcc2c_1c19_11eb_8a7d_0242ac1c0002\" ><thead>    <tr>        <th class=\"blank level0\" ></th>        <th class=\"col_heading level0 col0\" >0</th>        <th class=\"col_heading level0 col1\" >1</th>        <th class=\"col_heading level0 col2\" >2</th>        <th class=\"col_heading level0 col3\" >3</th>        <th class=\"col_heading level0 col4\" >4</th>        <th class=\"col_heading level0 col5\" >5</th>        <th class=\"col_heading level0 col6\" >6</th>        <th class=\"col_heading level0 col7\" >7</th>        <th class=\"col_heading level0 col8\" >8</th>        <th class=\"col_heading level0 col9\" >9</th>        <th class=\"col_heading level0 col10\" >10</th>        <th class=\"col_heading level0 col11\" >11</th>        <th class=\"col_heading level0 col12\" >12</th>        <th class=\"col_heading level0 col13\" >13</th>        <th class=\"col_heading level0 col14\" >14</th>        <th class=\"col_heading level0 col15\" >15</th>        <th class=\"col_heading level0 col16\" >16</th>        <th class=\"col_heading level0 col17\" >17</th>    </tr></thead><tbody>\n",
              "                <tr>\n",
              "                        <th id=\"T_8dbbcc2c_1c19_11eb_8a7d_0242ac1c0002level0_row0\" class=\"row_heading level0 row0\" >0</th>\n",
              "                        <td id=\"T_8dbbcc2c_1c19_11eb_8a7d_0242ac1c0002row0_col0\" class=\"data row0 col0\" >0</td>\n",
              "                        <td id=\"T_8dbbcc2c_1c19_11eb_8a7d_0242ac1c0002row0_col1\" class=\"data row0 col1\" >0</td>\n",
              "                        <td id=\"T_8dbbcc2c_1c19_11eb_8a7d_0242ac1c0002row0_col2\" class=\"data row0 col2\" >0</td>\n",
              "                        <td id=\"T_8dbbcc2c_1c19_11eb_8a7d_0242ac1c0002row0_col3\" class=\"data row0 col3\" >0</td>\n",
              "                        <td id=\"T_8dbbcc2c_1c19_11eb_8a7d_0242ac1c0002row0_col4\" class=\"data row0 col4\" >0</td>\n",
              "                        <td id=\"T_8dbbcc2c_1c19_11eb_8a7d_0242ac1c0002row0_col5\" class=\"data row0 col5\" >0</td>\n",
              "                        <td id=\"T_8dbbcc2c_1c19_11eb_8a7d_0242ac1c0002row0_col6\" class=\"data row0 col6\" >0</td>\n",
              "                        <td id=\"T_8dbbcc2c_1c19_11eb_8a7d_0242ac1c0002row0_col7\" class=\"data row0 col7\" >0</td>\n",
              "                        <td id=\"T_8dbbcc2c_1c19_11eb_8a7d_0242ac1c0002row0_col8\" class=\"data row0 col8\" >0</td>\n",
              "                        <td id=\"T_8dbbcc2c_1c19_11eb_8a7d_0242ac1c0002row0_col9\" class=\"data row0 col9\" >0</td>\n",
              "                        <td id=\"T_8dbbcc2c_1c19_11eb_8a7d_0242ac1c0002row0_col10\" class=\"data row0 col10\" >0</td>\n",
              "                        <td id=\"T_8dbbcc2c_1c19_11eb_8a7d_0242ac1c0002row0_col11\" class=\"data row0 col11\" >0</td>\n",
              "                        <td id=\"T_8dbbcc2c_1c19_11eb_8a7d_0242ac1c0002row0_col12\" class=\"data row0 col12\" >0</td>\n",
              "                        <td id=\"T_8dbbcc2c_1c19_11eb_8a7d_0242ac1c0002row0_col13\" class=\"data row0 col13\" >0</td>\n",
              "                        <td id=\"T_8dbbcc2c_1c19_11eb_8a7d_0242ac1c0002row0_col14\" class=\"data row0 col14\" >0</td>\n",
              "                        <td id=\"T_8dbbcc2c_1c19_11eb_8a7d_0242ac1c0002row0_col15\" class=\"data row0 col15\" >0</td>\n",
              "                        <td id=\"T_8dbbcc2c_1c19_11eb_8a7d_0242ac1c0002row0_col16\" class=\"data row0 col16\" >0</td>\n",
              "                        <td id=\"T_8dbbcc2c_1c19_11eb_8a7d_0242ac1c0002row0_col17\" class=\"data row0 col17\" >0</td>\n",
              "            </tr>\n",
              "            <tr>\n",
              "                        <th id=\"T_8dbbcc2c_1c19_11eb_8a7d_0242ac1c0002level0_row1\" class=\"row_heading level0 row1\" >1</th>\n",
              "                        <td id=\"T_8dbbcc2c_1c19_11eb_8a7d_0242ac1c0002row1_col0\" class=\"data row1 col0\" >0</td>\n",
              "                        <td id=\"T_8dbbcc2c_1c19_11eb_8a7d_0242ac1c0002row1_col1\" class=\"data row1 col1\" >0</td>\n",
              "                        <td id=\"T_8dbbcc2c_1c19_11eb_8a7d_0242ac1c0002row1_col2\" class=\"data row1 col2\" >0</td>\n",
              "                        <td id=\"T_8dbbcc2c_1c19_11eb_8a7d_0242ac1c0002row1_col3\" class=\"data row1 col3\" >0</td>\n",
              "                        <td id=\"T_8dbbcc2c_1c19_11eb_8a7d_0242ac1c0002row1_col4\" class=\"data row1 col4\" >0</td>\n",
              "                        <td id=\"T_8dbbcc2c_1c19_11eb_8a7d_0242ac1c0002row1_col5\" class=\"data row1 col5\" >29</td>\n",
              "                        <td id=\"T_8dbbcc2c_1c19_11eb_8a7d_0242ac1c0002row1_col6\" class=\"data row1 col6\" >150</td>\n",
              "                        <td id=\"T_8dbbcc2c_1c19_11eb_8a7d_0242ac1c0002row1_col7\" class=\"data row1 col7\" >195</td>\n",
              "                        <td id=\"T_8dbbcc2c_1c19_11eb_8a7d_0242ac1c0002row1_col8\" class=\"data row1 col8\" >254</td>\n",
              "                        <td id=\"T_8dbbcc2c_1c19_11eb_8a7d_0242ac1c0002row1_col9\" class=\"data row1 col9\" >255</td>\n",
              "                        <td id=\"T_8dbbcc2c_1c19_11eb_8a7d_0242ac1c0002row1_col10\" class=\"data row1 col10\" >254</td>\n",
              "                        <td id=\"T_8dbbcc2c_1c19_11eb_8a7d_0242ac1c0002row1_col11\" class=\"data row1 col11\" >176</td>\n",
              "                        <td id=\"T_8dbbcc2c_1c19_11eb_8a7d_0242ac1c0002row1_col12\" class=\"data row1 col12\" >193</td>\n",
              "                        <td id=\"T_8dbbcc2c_1c19_11eb_8a7d_0242ac1c0002row1_col13\" class=\"data row1 col13\" >150</td>\n",
              "                        <td id=\"T_8dbbcc2c_1c19_11eb_8a7d_0242ac1c0002row1_col14\" class=\"data row1 col14\" >96</td>\n",
              "                        <td id=\"T_8dbbcc2c_1c19_11eb_8a7d_0242ac1c0002row1_col15\" class=\"data row1 col15\" >0</td>\n",
              "                        <td id=\"T_8dbbcc2c_1c19_11eb_8a7d_0242ac1c0002row1_col16\" class=\"data row1 col16\" >0</td>\n",
              "                        <td id=\"T_8dbbcc2c_1c19_11eb_8a7d_0242ac1c0002row1_col17\" class=\"data row1 col17\" >0</td>\n",
              "            </tr>\n",
              "            <tr>\n",
              "                        <th id=\"T_8dbbcc2c_1c19_11eb_8a7d_0242ac1c0002level0_row2\" class=\"row_heading level0 row2\" >2</th>\n",
              "                        <td id=\"T_8dbbcc2c_1c19_11eb_8a7d_0242ac1c0002row2_col0\" class=\"data row2 col0\" >0</td>\n",
              "                        <td id=\"T_8dbbcc2c_1c19_11eb_8a7d_0242ac1c0002row2_col1\" class=\"data row2 col1\" >0</td>\n",
              "                        <td id=\"T_8dbbcc2c_1c19_11eb_8a7d_0242ac1c0002row2_col2\" class=\"data row2 col2\" >0</td>\n",
              "                        <td id=\"T_8dbbcc2c_1c19_11eb_8a7d_0242ac1c0002row2_col3\" class=\"data row2 col3\" >48</td>\n",
              "                        <td id=\"T_8dbbcc2c_1c19_11eb_8a7d_0242ac1c0002row2_col4\" class=\"data row2 col4\" >166</td>\n",
              "                        <td id=\"T_8dbbcc2c_1c19_11eb_8a7d_0242ac1c0002row2_col5\" class=\"data row2 col5\" >224</td>\n",
              "                        <td id=\"T_8dbbcc2c_1c19_11eb_8a7d_0242ac1c0002row2_col6\" class=\"data row2 col6\" >253</td>\n",
              "                        <td id=\"T_8dbbcc2c_1c19_11eb_8a7d_0242ac1c0002row2_col7\" class=\"data row2 col7\" >253</td>\n",
              "                        <td id=\"T_8dbbcc2c_1c19_11eb_8a7d_0242ac1c0002row2_col8\" class=\"data row2 col8\" >234</td>\n",
              "                        <td id=\"T_8dbbcc2c_1c19_11eb_8a7d_0242ac1c0002row2_col9\" class=\"data row2 col9\" >196</td>\n",
              "                        <td id=\"T_8dbbcc2c_1c19_11eb_8a7d_0242ac1c0002row2_col10\" class=\"data row2 col10\" >253</td>\n",
              "                        <td id=\"T_8dbbcc2c_1c19_11eb_8a7d_0242ac1c0002row2_col11\" class=\"data row2 col11\" >253</td>\n",
              "                        <td id=\"T_8dbbcc2c_1c19_11eb_8a7d_0242ac1c0002row2_col12\" class=\"data row2 col12\" >253</td>\n",
              "                        <td id=\"T_8dbbcc2c_1c19_11eb_8a7d_0242ac1c0002row2_col13\" class=\"data row2 col13\" >253</td>\n",
              "                        <td id=\"T_8dbbcc2c_1c19_11eb_8a7d_0242ac1c0002row2_col14\" class=\"data row2 col14\" >233</td>\n",
              "                        <td id=\"T_8dbbcc2c_1c19_11eb_8a7d_0242ac1c0002row2_col15\" class=\"data row2 col15\" >0</td>\n",
              "                        <td id=\"T_8dbbcc2c_1c19_11eb_8a7d_0242ac1c0002row2_col16\" class=\"data row2 col16\" >0</td>\n",
              "                        <td id=\"T_8dbbcc2c_1c19_11eb_8a7d_0242ac1c0002row2_col17\" class=\"data row2 col17\" >0</td>\n",
              "            </tr>\n",
              "            <tr>\n",
              "                        <th id=\"T_8dbbcc2c_1c19_11eb_8a7d_0242ac1c0002level0_row3\" class=\"row_heading level0 row3\" >3</th>\n",
              "                        <td id=\"T_8dbbcc2c_1c19_11eb_8a7d_0242ac1c0002row3_col0\" class=\"data row3 col0\" >0</td>\n",
              "                        <td id=\"T_8dbbcc2c_1c19_11eb_8a7d_0242ac1c0002row3_col1\" class=\"data row3 col1\" >93</td>\n",
              "                        <td id=\"T_8dbbcc2c_1c19_11eb_8a7d_0242ac1c0002row3_col2\" class=\"data row3 col2\" >244</td>\n",
              "                        <td id=\"T_8dbbcc2c_1c19_11eb_8a7d_0242ac1c0002row3_col3\" class=\"data row3 col3\" >249</td>\n",
              "                        <td id=\"T_8dbbcc2c_1c19_11eb_8a7d_0242ac1c0002row3_col4\" class=\"data row3 col4\" >253</td>\n",
              "                        <td id=\"T_8dbbcc2c_1c19_11eb_8a7d_0242ac1c0002row3_col5\" class=\"data row3 col5\" >187</td>\n",
              "                        <td id=\"T_8dbbcc2c_1c19_11eb_8a7d_0242ac1c0002row3_col6\" class=\"data row3 col6\" >46</td>\n",
              "                        <td id=\"T_8dbbcc2c_1c19_11eb_8a7d_0242ac1c0002row3_col7\" class=\"data row3 col7\" >10</td>\n",
              "                        <td id=\"T_8dbbcc2c_1c19_11eb_8a7d_0242ac1c0002row3_col8\" class=\"data row3 col8\" >8</td>\n",
              "                        <td id=\"T_8dbbcc2c_1c19_11eb_8a7d_0242ac1c0002row3_col9\" class=\"data row3 col9\" >4</td>\n",
              "                        <td id=\"T_8dbbcc2c_1c19_11eb_8a7d_0242ac1c0002row3_col10\" class=\"data row3 col10\" >10</td>\n",
              "                        <td id=\"T_8dbbcc2c_1c19_11eb_8a7d_0242ac1c0002row3_col11\" class=\"data row3 col11\" >194</td>\n",
              "                        <td id=\"T_8dbbcc2c_1c19_11eb_8a7d_0242ac1c0002row3_col12\" class=\"data row3 col12\" >253</td>\n",
              "                        <td id=\"T_8dbbcc2c_1c19_11eb_8a7d_0242ac1c0002row3_col13\" class=\"data row3 col13\" >253</td>\n",
              "                        <td id=\"T_8dbbcc2c_1c19_11eb_8a7d_0242ac1c0002row3_col14\" class=\"data row3 col14\" >233</td>\n",
              "                        <td id=\"T_8dbbcc2c_1c19_11eb_8a7d_0242ac1c0002row3_col15\" class=\"data row3 col15\" >0</td>\n",
              "                        <td id=\"T_8dbbcc2c_1c19_11eb_8a7d_0242ac1c0002row3_col16\" class=\"data row3 col16\" >0</td>\n",
              "                        <td id=\"T_8dbbcc2c_1c19_11eb_8a7d_0242ac1c0002row3_col17\" class=\"data row3 col17\" >0</td>\n",
              "            </tr>\n",
              "            <tr>\n",
              "                        <th id=\"T_8dbbcc2c_1c19_11eb_8a7d_0242ac1c0002level0_row4\" class=\"row_heading level0 row4\" >4</th>\n",
              "                        <td id=\"T_8dbbcc2c_1c19_11eb_8a7d_0242ac1c0002row4_col0\" class=\"data row4 col0\" >0</td>\n",
              "                        <td id=\"T_8dbbcc2c_1c19_11eb_8a7d_0242ac1c0002row4_col1\" class=\"data row4 col1\" >107</td>\n",
              "                        <td id=\"T_8dbbcc2c_1c19_11eb_8a7d_0242ac1c0002row4_col2\" class=\"data row4 col2\" >253</td>\n",
              "                        <td id=\"T_8dbbcc2c_1c19_11eb_8a7d_0242ac1c0002row4_col3\" class=\"data row4 col3\" >253</td>\n",
              "                        <td id=\"T_8dbbcc2c_1c19_11eb_8a7d_0242ac1c0002row4_col4\" class=\"data row4 col4\" >230</td>\n",
              "                        <td id=\"T_8dbbcc2c_1c19_11eb_8a7d_0242ac1c0002row4_col5\" class=\"data row4 col5\" >48</td>\n",
              "                        <td id=\"T_8dbbcc2c_1c19_11eb_8a7d_0242ac1c0002row4_col6\" class=\"data row4 col6\" >0</td>\n",
              "                        <td id=\"T_8dbbcc2c_1c19_11eb_8a7d_0242ac1c0002row4_col7\" class=\"data row4 col7\" >0</td>\n",
              "                        <td id=\"T_8dbbcc2c_1c19_11eb_8a7d_0242ac1c0002row4_col8\" class=\"data row4 col8\" >0</td>\n",
              "                        <td id=\"T_8dbbcc2c_1c19_11eb_8a7d_0242ac1c0002row4_col9\" class=\"data row4 col9\" >0</td>\n",
              "                        <td id=\"T_8dbbcc2c_1c19_11eb_8a7d_0242ac1c0002row4_col10\" class=\"data row4 col10\" >0</td>\n",
              "                        <td id=\"T_8dbbcc2c_1c19_11eb_8a7d_0242ac1c0002row4_col11\" class=\"data row4 col11\" >192</td>\n",
              "                        <td id=\"T_8dbbcc2c_1c19_11eb_8a7d_0242ac1c0002row4_col12\" class=\"data row4 col12\" >253</td>\n",
              "                        <td id=\"T_8dbbcc2c_1c19_11eb_8a7d_0242ac1c0002row4_col13\" class=\"data row4 col13\" >253</td>\n",
              "                        <td id=\"T_8dbbcc2c_1c19_11eb_8a7d_0242ac1c0002row4_col14\" class=\"data row4 col14\" >156</td>\n",
              "                        <td id=\"T_8dbbcc2c_1c19_11eb_8a7d_0242ac1c0002row4_col15\" class=\"data row4 col15\" >0</td>\n",
              "                        <td id=\"T_8dbbcc2c_1c19_11eb_8a7d_0242ac1c0002row4_col16\" class=\"data row4 col16\" >0</td>\n",
              "                        <td id=\"T_8dbbcc2c_1c19_11eb_8a7d_0242ac1c0002row4_col17\" class=\"data row4 col17\" >0</td>\n",
              "            </tr>\n",
              "            <tr>\n",
              "                        <th id=\"T_8dbbcc2c_1c19_11eb_8a7d_0242ac1c0002level0_row5\" class=\"row_heading level0 row5\" >5</th>\n",
              "                        <td id=\"T_8dbbcc2c_1c19_11eb_8a7d_0242ac1c0002row5_col0\" class=\"data row5 col0\" >0</td>\n",
              "                        <td id=\"T_8dbbcc2c_1c19_11eb_8a7d_0242ac1c0002row5_col1\" class=\"data row5 col1\" >3</td>\n",
              "                        <td id=\"T_8dbbcc2c_1c19_11eb_8a7d_0242ac1c0002row5_col2\" class=\"data row5 col2\" >20</td>\n",
              "                        <td id=\"T_8dbbcc2c_1c19_11eb_8a7d_0242ac1c0002row5_col3\" class=\"data row5 col3\" >20</td>\n",
              "                        <td id=\"T_8dbbcc2c_1c19_11eb_8a7d_0242ac1c0002row5_col4\" class=\"data row5 col4\" >15</td>\n",
              "                        <td id=\"T_8dbbcc2c_1c19_11eb_8a7d_0242ac1c0002row5_col5\" class=\"data row5 col5\" >0</td>\n",
              "                        <td id=\"T_8dbbcc2c_1c19_11eb_8a7d_0242ac1c0002row5_col6\" class=\"data row5 col6\" >0</td>\n",
              "                        <td id=\"T_8dbbcc2c_1c19_11eb_8a7d_0242ac1c0002row5_col7\" class=\"data row5 col7\" >0</td>\n",
              "                        <td id=\"T_8dbbcc2c_1c19_11eb_8a7d_0242ac1c0002row5_col8\" class=\"data row5 col8\" >0</td>\n",
              "                        <td id=\"T_8dbbcc2c_1c19_11eb_8a7d_0242ac1c0002row5_col9\" class=\"data row5 col9\" >0</td>\n",
              "                        <td id=\"T_8dbbcc2c_1c19_11eb_8a7d_0242ac1c0002row5_col10\" class=\"data row5 col10\" >43</td>\n",
              "                        <td id=\"T_8dbbcc2c_1c19_11eb_8a7d_0242ac1c0002row5_col11\" class=\"data row5 col11\" >224</td>\n",
              "                        <td id=\"T_8dbbcc2c_1c19_11eb_8a7d_0242ac1c0002row5_col12\" class=\"data row5 col12\" >253</td>\n",
              "                        <td id=\"T_8dbbcc2c_1c19_11eb_8a7d_0242ac1c0002row5_col13\" class=\"data row5 col13\" >245</td>\n",
              "                        <td id=\"T_8dbbcc2c_1c19_11eb_8a7d_0242ac1c0002row5_col14\" class=\"data row5 col14\" >74</td>\n",
              "                        <td id=\"T_8dbbcc2c_1c19_11eb_8a7d_0242ac1c0002row5_col15\" class=\"data row5 col15\" >0</td>\n",
              "                        <td id=\"T_8dbbcc2c_1c19_11eb_8a7d_0242ac1c0002row5_col16\" class=\"data row5 col16\" >0</td>\n",
              "                        <td id=\"T_8dbbcc2c_1c19_11eb_8a7d_0242ac1c0002row5_col17\" class=\"data row5 col17\" >0</td>\n",
              "            </tr>\n",
              "            <tr>\n",
              "                        <th id=\"T_8dbbcc2c_1c19_11eb_8a7d_0242ac1c0002level0_row6\" class=\"row_heading level0 row6\" >6</th>\n",
              "                        <td id=\"T_8dbbcc2c_1c19_11eb_8a7d_0242ac1c0002row6_col0\" class=\"data row6 col0\" >0</td>\n",
              "                        <td id=\"T_8dbbcc2c_1c19_11eb_8a7d_0242ac1c0002row6_col1\" class=\"data row6 col1\" >0</td>\n",
              "                        <td id=\"T_8dbbcc2c_1c19_11eb_8a7d_0242ac1c0002row6_col2\" class=\"data row6 col2\" >0</td>\n",
              "                        <td id=\"T_8dbbcc2c_1c19_11eb_8a7d_0242ac1c0002row6_col3\" class=\"data row6 col3\" >0</td>\n",
              "                        <td id=\"T_8dbbcc2c_1c19_11eb_8a7d_0242ac1c0002row6_col4\" class=\"data row6 col4\" >0</td>\n",
              "                        <td id=\"T_8dbbcc2c_1c19_11eb_8a7d_0242ac1c0002row6_col5\" class=\"data row6 col5\" >0</td>\n",
              "                        <td id=\"T_8dbbcc2c_1c19_11eb_8a7d_0242ac1c0002row6_col6\" class=\"data row6 col6\" >0</td>\n",
              "                        <td id=\"T_8dbbcc2c_1c19_11eb_8a7d_0242ac1c0002row6_col7\" class=\"data row6 col7\" >0</td>\n",
              "                        <td id=\"T_8dbbcc2c_1c19_11eb_8a7d_0242ac1c0002row6_col8\" class=\"data row6 col8\" >0</td>\n",
              "                        <td id=\"T_8dbbcc2c_1c19_11eb_8a7d_0242ac1c0002row6_col9\" class=\"data row6 col9\" >0</td>\n",
              "                        <td id=\"T_8dbbcc2c_1c19_11eb_8a7d_0242ac1c0002row6_col10\" class=\"data row6 col10\" >249</td>\n",
              "                        <td id=\"T_8dbbcc2c_1c19_11eb_8a7d_0242ac1c0002row6_col11\" class=\"data row6 col11\" >253</td>\n",
              "                        <td id=\"T_8dbbcc2c_1c19_11eb_8a7d_0242ac1c0002row6_col12\" class=\"data row6 col12\" >245</td>\n",
              "                        <td id=\"T_8dbbcc2c_1c19_11eb_8a7d_0242ac1c0002row6_col13\" class=\"data row6 col13\" >126</td>\n",
              "                        <td id=\"T_8dbbcc2c_1c19_11eb_8a7d_0242ac1c0002row6_col14\" class=\"data row6 col14\" >0</td>\n",
              "                        <td id=\"T_8dbbcc2c_1c19_11eb_8a7d_0242ac1c0002row6_col15\" class=\"data row6 col15\" >0</td>\n",
              "                        <td id=\"T_8dbbcc2c_1c19_11eb_8a7d_0242ac1c0002row6_col16\" class=\"data row6 col16\" >0</td>\n",
              "                        <td id=\"T_8dbbcc2c_1c19_11eb_8a7d_0242ac1c0002row6_col17\" class=\"data row6 col17\" >0</td>\n",
              "            </tr>\n",
              "            <tr>\n",
              "                        <th id=\"T_8dbbcc2c_1c19_11eb_8a7d_0242ac1c0002level0_row7\" class=\"row_heading level0 row7\" >7</th>\n",
              "                        <td id=\"T_8dbbcc2c_1c19_11eb_8a7d_0242ac1c0002row7_col0\" class=\"data row7 col0\" >0</td>\n",
              "                        <td id=\"T_8dbbcc2c_1c19_11eb_8a7d_0242ac1c0002row7_col1\" class=\"data row7 col1\" >0</td>\n",
              "                        <td id=\"T_8dbbcc2c_1c19_11eb_8a7d_0242ac1c0002row7_col2\" class=\"data row7 col2\" >0</td>\n",
              "                        <td id=\"T_8dbbcc2c_1c19_11eb_8a7d_0242ac1c0002row7_col3\" class=\"data row7 col3\" >0</td>\n",
              "                        <td id=\"T_8dbbcc2c_1c19_11eb_8a7d_0242ac1c0002row7_col4\" class=\"data row7 col4\" >0</td>\n",
              "                        <td id=\"T_8dbbcc2c_1c19_11eb_8a7d_0242ac1c0002row7_col5\" class=\"data row7 col5\" >0</td>\n",
              "                        <td id=\"T_8dbbcc2c_1c19_11eb_8a7d_0242ac1c0002row7_col6\" class=\"data row7 col6\" >0</td>\n",
              "                        <td id=\"T_8dbbcc2c_1c19_11eb_8a7d_0242ac1c0002row7_col7\" class=\"data row7 col7\" >14</td>\n",
              "                        <td id=\"T_8dbbcc2c_1c19_11eb_8a7d_0242ac1c0002row7_col8\" class=\"data row7 col8\" >101</td>\n",
              "                        <td id=\"T_8dbbcc2c_1c19_11eb_8a7d_0242ac1c0002row7_col9\" class=\"data row7 col9\" >223</td>\n",
              "                        <td id=\"T_8dbbcc2c_1c19_11eb_8a7d_0242ac1c0002row7_col10\" class=\"data row7 col10\" >253</td>\n",
              "                        <td id=\"T_8dbbcc2c_1c19_11eb_8a7d_0242ac1c0002row7_col11\" class=\"data row7 col11\" >248</td>\n",
              "                        <td id=\"T_8dbbcc2c_1c19_11eb_8a7d_0242ac1c0002row7_col12\" class=\"data row7 col12\" >124</td>\n",
              "                        <td id=\"T_8dbbcc2c_1c19_11eb_8a7d_0242ac1c0002row7_col13\" class=\"data row7 col13\" >0</td>\n",
              "                        <td id=\"T_8dbbcc2c_1c19_11eb_8a7d_0242ac1c0002row7_col14\" class=\"data row7 col14\" >0</td>\n",
              "                        <td id=\"T_8dbbcc2c_1c19_11eb_8a7d_0242ac1c0002row7_col15\" class=\"data row7 col15\" >0</td>\n",
              "                        <td id=\"T_8dbbcc2c_1c19_11eb_8a7d_0242ac1c0002row7_col16\" class=\"data row7 col16\" >0</td>\n",
              "                        <td id=\"T_8dbbcc2c_1c19_11eb_8a7d_0242ac1c0002row7_col17\" class=\"data row7 col17\" >0</td>\n",
              "            </tr>\n",
              "            <tr>\n",
              "                        <th id=\"T_8dbbcc2c_1c19_11eb_8a7d_0242ac1c0002level0_row8\" class=\"row_heading level0 row8\" >8</th>\n",
              "                        <td id=\"T_8dbbcc2c_1c19_11eb_8a7d_0242ac1c0002row8_col0\" class=\"data row8 col0\" >0</td>\n",
              "                        <td id=\"T_8dbbcc2c_1c19_11eb_8a7d_0242ac1c0002row8_col1\" class=\"data row8 col1\" >0</td>\n",
              "                        <td id=\"T_8dbbcc2c_1c19_11eb_8a7d_0242ac1c0002row8_col2\" class=\"data row8 col2\" >0</td>\n",
              "                        <td id=\"T_8dbbcc2c_1c19_11eb_8a7d_0242ac1c0002row8_col3\" class=\"data row8 col3\" >0</td>\n",
              "                        <td id=\"T_8dbbcc2c_1c19_11eb_8a7d_0242ac1c0002row8_col4\" class=\"data row8 col4\" >0</td>\n",
              "                        <td id=\"T_8dbbcc2c_1c19_11eb_8a7d_0242ac1c0002row8_col5\" class=\"data row8 col5\" >11</td>\n",
              "                        <td id=\"T_8dbbcc2c_1c19_11eb_8a7d_0242ac1c0002row8_col6\" class=\"data row8 col6\" >166</td>\n",
              "                        <td id=\"T_8dbbcc2c_1c19_11eb_8a7d_0242ac1c0002row8_col7\" class=\"data row8 col7\" >239</td>\n",
              "                        <td id=\"T_8dbbcc2c_1c19_11eb_8a7d_0242ac1c0002row8_col8\" class=\"data row8 col8\" >253</td>\n",
              "                        <td id=\"T_8dbbcc2c_1c19_11eb_8a7d_0242ac1c0002row8_col9\" class=\"data row8 col9\" >253</td>\n",
              "                        <td id=\"T_8dbbcc2c_1c19_11eb_8a7d_0242ac1c0002row8_col10\" class=\"data row8 col10\" >253</td>\n",
              "                        <td id=\"T_8dbbcc2c_1c19_11eb_8a7d_0242ac1c0002row8_col11\" class=\"data row8 col11\" >187</td>\n",
              "                        <td id=\"T_8dbbcc2c_1c19_11eb_8a7d_0242ac1c0002row8_col12\" class=\"data row8 col12\" >30</td>\n",
              "                        <td id=\"T_8dbbcc2c_1c19_11eb_8a7d_0242ac1c0002row8_col13\" class=\"data row8 col13\" >0</td>\n",
              "                        <td id=\"T_8dbbcc2c_1c19_11eb_8a7d_0242ac1c0002row8_col14\" class=\"data row8 col14\" >0</td>\n",
              "                        <td id=\"T_8dbbcc2c_1c19_11eb_8a7d_0242ac1c0002row8_col15\" class=\"data row8 col15\" >0</td>\n",
              "                        <td id=\"T_8dbbcc2c_1c19_11eb_8a7d_0242ac1c0002row8_col16\" class=\"data row8 col16\" >0</td>\n",
              "                        <td id=\"T_8dbbcc2c_1c19_11eb_8a7d_0242ac1c0002row8_col17\" class=\"data row8 col17\" >0</td>\n",
              "            </tr>\n",
              "            <tr>\n",
              "                        <th id=\"T_8dbbcc2c_1c19_11eb_8a7d_0242ac1c0002level0_row9\" class=\"row_heading level0 row9\" >9</th>\n",
              "                        <td id=\"T_8dbbcc2c_1c19_11eb_8a7d_0242ac1c0002row9_col0\" class=\"data row9 col0\" >0</td>\n",
              "                        <td id=\"T_8dbbcc2c_1c19_11eb_8a7d_0242ac1c0002row9_col1\" class=\"data row9 col1\" >0</td>\n",
              "                        <td id=\"T_8dbbcc2c_1c19_11eb_8a7d_0242ac1c0002row9_col2\" class=\"data row9 col2\" >0</td>\n",
              "                        <td id=\"T_8dbbcc2c_1c19_11eb_8a7d_0242ac1c0002row9_col3\" class=\"data row9 col3\" >0</td>\n",
              "                        <td id=\"T_8dbbcc2c_1c19_11eb_8a7d_0242ac1c0002row9_col4\" class=\"data row9 col4\" >0</td>\n",
              "                        <td id=\"T_8dbbcc2c_1c19_11eb_8a7d_0242ac1c0002row9_col5\" class=\"data row9 col5\" >16</td>\n",
              "                        <td id=\"T_8dbbcc2c_1c19_11eb_8a7d_0242ac1c0002row9_col6\" class=\"data row9 col6\" >248</td>\n",
              "                        <td id=\"T_8dbbcc2c_1c19_11eb_8a7d_0242ac1c0002row9_col7\" class=\"data row9 col7\" >250</td>\n",
              "                        <td id=\"T_8dbbcc2c_1c19_11eb_8a7d_0242ac1c0002row9_col8\" class=\"data row9 col8\" >253</td>\n",
              "                        <td id=\"T_8dbbcc2c_1c19_11eb_8a7d_0242ac1c0002row9_col9\" class=\"data row9 col9\" >253</td>\n",
              "                        <td id=\"T_8dbbcc2c_1c19_11eb_8a7d_0242ac1c0002row9_col10\" class=\"data row9 col10\" >253</td>\n",
              "                        <td id=\"T_8dbbcc2c_1c19_11eb_8a7d_0242ac1c0002row9_col11\" class=\"data row9 col11\" >253</td>\n",
              "                        <td id=\"T_8dbbcc2c_1c19_11eb_8a7d_0242ac1c0002row9_col12\" class=\"data row9 col12\" >232</td>\n",
              "                        <td id=\"T_8dbbcc2c_1c19_11eb_8a7d_0242ac1c0002row9_col13\" class=\"data row9 col13\" >213</td>\n",
              "                        <td id=\"T_8dbbcc2c_1c19_11eb_8a7d_0242ac1c0002row9_col14\" class=\"data row9 col14\" >111</td>\n",
              "                        <td id=\"T_8dbbcc2c_1c19_11eb_8a7d_0242ac1c0002row9_col15\" class=\"data row9 col15\" >2</td>\n",
              "                        <td id=\"T_8dbbcc2c_1c19_11eb_8a7d_0242ac1c0002row9_col16\" class=\"data row9 col16\" >0</td>\n",
              "                        <td id=\"T_8dbbcc2c_1c19_11eb_8a7d_0242ac1c0002row9_col17\" class=\"data row9 col17\" >0</td>\n",
              "            </tr>\n",
              "            <tr>\n",
              "                        <th id=\"T_8dbbcc2c_1c19_11eb_8a7d_0242ac1c0002level0_row10\" class=\"row_heading level0 row10\" >10</th>\n",
              "                        <td id=\"T_8dbbcc2c_1c19_11eb_8a7d_0242ac1c0002row10_col0\" class=\"data row10 col0\" >0</td>\n",
              "                        <td id=\"T_8dbbcc2c_1c19_11eb_8a7d_0242ac1c0002row10_col1\" class=\"data row10 col1\" >0</td>\n",
              "                        <td id=\"T_8dbbcc2c_1c19_11eb_8a7d_0242ac1c0002row10_col2\" class=\"data row10 col2\" >0</td>\n",
              "                        <td id=\"T_8dbbcc2c_1c19_11eb_8a7d_0242ac1c0002row10_col3\" class=\"data row10 col3\" >0</td>\n",
              "                        <td id=\"T_8dbbcc2c_1c19_11eb_8a7d_0242ac1c0002row10_col4\" class=\"data row10 col4\" >0</td>\n",
              "                        <td id=\"T_8dbbcc2c_1c19_11eb_8a7d_0242ac1c0002row10_col5\" class=\"data row10 col5\" >0</td>\n",
              "                        <td id=\"T_8dbbcc2c_1c19_11eb_8a7d_0242ac1c0002row10_col6\" class=\"data row10 col6\" >0</td>\n",
              "                        <td id=\"T_8dbbcc2c_1c19_11eb_8a7d_0242ac1c0002row10_col7\" class=\"data row10 col7\" >43</td>\n",
              "                        <td id=\"T_8dbbcc2c_1c19_11eb_8a7d_0242ac1c0002row10_col8\" class=\"data row10 col8\" >98</td>\n",
              "                        <td id=\"T_8dbbcc2c_1c19_11eb_8a7d_0242ac1c0002row10_col9\" class=\"data row10 col9\" >98</td>\n",
              "                        <td id=\"T_8dbbcc2c_1c19_11eb_8a7d_0242ac1c0002row10_col10\" class=\"data row10 col10\" >208</td>\n",
              "                        <td id=\"T_8dbbcc2c_1c19_11eb_8a7d_0242ac1c0002row10_col11\" class=\"data row10 col11\" >253</td>\n",
              "                        <td id=\"T_8dbbcc2c_1c19_11eb_8a7d_0242ac1c0002row10_col12\" class=\"data row10 col12\" >253</td>\n",
              "                        <td id=\"T_8dbbcc2c_1c19_11eb_8a7d_0242ac1c0002row10_col13\" class=\"data row10 col13\" >253</td>\n",
              "                        <td id=\"T_8dbbcc2c_1c19_11eb_8a7d_0242ac1c0002row10_col14\" class=\"data row10 col14\" >253</td>\n",
              "                        <td id=\"T_8dbbcc2c_1c19_11eb_8a7d_0242ac1c0002row10_col15\" class=\"data row10 col15\" >187</td>\n",
              "                        <td id=\"T_8dbbcc2c_1c19_11eb_8a7d_0242ac1c0002row10_col16\" class=\"data row10 col16\" >22</td>\n",
              "                        <td id=\"T_8dbbcc2c_1c19_11eb_8a7d_0242ac1c0002row10_col17\" class=\"data row10 col17\" >0</td>\n",
              "            </tr>\n",
              "    </tbody></table>"
            ],
            "text/plain": [
              "<pandas.io.formats.style.Styler at 0x7f14fe474a58>"
            ]
          },
          "metadata": {
            "tags": []
          },
          "execution_count": 11
        }
      ]
    },
    {
      "cell_type": "markdown",
      "metadata": {
        "id": "xesX1wy-cqlD"
      },
      "source": [
        "Let's open all our images, turn them into tensors and put them in the corresponding list. To speed things up, we'll use a list comprehension (for more details a quick Google search will do it).\n",
        "\n",
        "Let's ensure that we have all our images ready by checking the length of the two lists."
      ]
    },
    {
      "cell_type": "code",
      "metadata": {
        "id": "WnQ3RmGRchGH",
        "outputId": "f6f22cb2-7c3f-424c-d624-c7a72b46acb8",
        "colab": {
          "base_uri": "https://localhost:8080/"
        }
      },
      "source": [
        "seven_tensors = [tensor(Image.open(o)) for o in sevens]\n",
        "three_tensors = [tensor(Image.open(o)) for o in threes]\n",
        "len(three_tensors),len(seven_tensors)"
      ],
      "execution_count": 12,
      "outputs": [
        {
          "output_type": "execute_result",
          "data": {
            "text/plain": [
              "(6131, 6265)"
            ]
          },
          "metadata": {
            "tags": []
          },
          "execution_count": 12
        }
      ]
    },
    {
      "cell_type": "markdown",
      "metadata": {
        "id": "Ur0_G8dcdhYt"
      },
      "source": [
        "So far we have seen how to turn our images into tensors/arrays (a bunch of numbers), but how do we do the reverse operation ?\n",
        "\n",
        "Well it is pretty simple, thanks to fastai *show_image* method, we can do just that."
      ]
    },
    {
      "cell_type": "code",
      "metadata": {
        "id": "QQZs8d7tctFl",
        "outputId": "8cb0e589-3d92-4cbd-a202-64ad56e93e67",
        "colab": {
          "base_uri": "https://localhost:8080/",
          "height": 85
        }
      },
      "source": [
        "show_image(three_tensors[1]);"
      ],
      "execution_count": 13,
      "outputs": [
        {
          "output_type": "display_data",
          "data": {
            "image/png": "[encoded data removed]",
            "text/plain": [
              "<Figure size 72x72 with 1 Axes>"
            ]
          },
          "metadata": {
            "tags": [],
            "needs_background": "light"
          }
        }
      ]
    },
    {
      "cell_type": "markdown",
      "metadata": {
        "id": "U-XpilfveII7"
      },
      "source": [
        "Remember we have to find the perfect 3 and 7, one way of doing it (our approach) is to find the mean of every pixel of all the 3/7 images of our dataset.\n",
        "\n",
        "To do that we'll **stack** our second order tensors (second order means that it's a two dimensionnal object or matrix, more generally we say that we have a **k-th order tensor**) to form a third order tensor (three dimesionnal object).\n",
        "And cast it to float (turn our integers in the tensor into float, in other words change the type of the data in our tensor).\n",
        "\n",
        "We also divide by 255 because when images are represented by floats, we generally expect the values to be between 0 and 255.\n",
        "\n",
        "To ensure that we've done this right we print the **shape** of the tensor (which is the number of elements in each axis/dimension) and we check that we have indeed 6131 images of 28x28.\n",
        "\n",
        "> Note that nothing about this tensor tells us explicitly that the first axis is the number of images and so on. This is because it is entirely up to us and how we construct the it. For the tensor it is just a bunch of numbers in memory. "
      ]
    },
    {
      "cell_type": "code",
      "metadata": {
        "id": "sUsOmpJHd209",
        "outputId": "0323b2e3-5489-4106-defc-d4ddbf36d0ce",
        "colab": {
          "base_uri": "https://localhost:8080/"
        }
      },
      "source": [
        "stacked_sevens = torch.stack(seven_tensors).float()/255\n",
        "stacked_threes = torch.stack(three_tensors).float()/255\n",
        "stacked_threes.shape"
      ],
      "execution_count": 14,
      "outputs": [
        {
          "output_type": "execute_result",
          "data": {
            "text/plain": [
              "torch.Size([6131, 28, 28])"
            ]
          },
          "metadata": {
            "tags": []
          },
          "execution_count": 14
        }
      ]
    },
    {
      "cell_type": "markdown",
      "metadata": {
        "id": "smHvqH7HiIs_"
      },
      "source": [
        "We can also check that we did not screw something, by checking the number of dimensions/axis of the tensor (which in this case is three).\n",
        "> The number of dimmesions/axis of the tensor is also the length of the shape."
      ]
    },
    {
      "cell_type": "code",
      "metadata": {
        "id": "5TmMT9d7eJ-S",
        "outputId": "91e8634d-493a-409b-be97-46bc7fb241b6",
        "colab": {
          "base_uri": "https://localhost:8080/"
        }
      },
      "source": [
        "stacked_threes.ndim"
      ],
      "execution_count": 15,
      "outputs": [
        {
          "output_type": "execute_result",
          "data": {
            "text/plain": [
              "3"
            ]
          },
          "metadata": {
            "tags": []
          },
          "execution_count": 15
        }
      ]
    },
    {
      "cell_type": "markdown",
      "metadata": {
        "id": "jQf7ZXG1vmMM"
      },
      "source": [
        "Okay, now we have everything we need, to calculate our perfect 3/7 we'll use the *mean* method provided by *PyTorch* and we give it as an argument the index along which we want to calculate the mean, in our case it'll be the first axis (0-indexed) because we want the mean of every pixel across all images."
      ]
    },
    {
      "cell_type": "code",
      "metadata": {
        "id": "pR28T3xDilyU",
        "outputId": "ecac9f13-c60e-4f89-ab00-1c5f16497440",
        "colab": {
          "base_uri": "https://localhost:8080/",
          "height": 85
        }
      },
      "source": [
        "mean3 = stacked_threes.mean(0)\n",
        "show_image(mean3);"
      ],
      "execution_count": 16,
      "outputs": [
        {
          "output_type": "display_data",
          "data": {
            "image/png": "[encoded data removed]",
            "text/plain": [
              "<Figure size 72x72 with 1 Axes>"
            ]
          },
          "metadata": {
            "tags": [],
            "needs_background": "light"
          }
        }
      ]
    },
    {
      "cell_type": "code",
      "metadata": {
        "id": "-Swbf-KbwfQ1",
        "outputId": "7cc6c2a2-d0ea-4497-e8ad-b579bfbca2e6",
        "colab": {
          "base_uri": "https://localhost:8080/",
          "height": 85
        }
      },
      "source": [
        "mean7 = stacked_sevens.mean(0)\n",
        "show_image(mean7);"
      ],
      "execution_count": 17,
      "outputs": [
        {
          "output_type": "display_data",
          "data": {
            "image/png": "[encoded data removed]",
            "text/plain": [
              "<Figure size 72x72 with 1 Axes>"
            ]
          },
          "metadata": {
            "tags": [],
            "needs_background": "light"
          }
        }
      ]
    },
    {
      "cell_type": "markdown",
      "metadata": {
        "id": "nqnC9fI3wveh"
      },
      "source": [
        "> As you can notice, the parts where images \"agree\" (similar pixel values) that this is how a handwritten 3/7 is supposed to look like are darker then the parts where they disagree-- kinda of blurry (due to different pixel values). "
      ]
    },
    {
      "cell_type": "markdown",
      "metadata": {
        "id": "FaBRXQcqybSi"
      },
      "source": [
        "### 2. Measure the distance (similarity)\n",
        "\n",
        "Our final step will consist of calculating the distance of a given image and our perfect 3/7 and we'll say that it is a 3/7 if it is closest to the perfect 3/7 respectively.\n",
        "\n",
        "Okay, but what's the distance between two images. For that purpose we can use either :\n",
        "\n",
        "- **L1 norm**: which is the mean absolute difference, in other words, we take the absolute value of the difference between each pixel of the two images and average over all pixels. \n",
        "\n",
        "- **L2 norm**: root mean squared error, same as above but instead of taking the absolute value, we square the differences, then average and finally take the square root (which will \"undo\" the squaring). "
      ]
    },
    {
      "cell_type": "code",
      "metadata": {
        "id": "pEPtjjh5wtU2",
        "outputId": "9fcbfc65-b706-4a03-c854-c86d7c342e84",
        "colab": {
          "base_uri": "https://localhost:8080/"
        }
      },
      "source": [
        "a_3 = stacked_threes[1]\n",
        "dist_3_abs = (a_3 - mean3).abs().mean()\n",
        "dist_3_sqr = ((a_3 - mean3)**2).mean().sqrt()\n",
        "dist_3_abs, dist_3_sqr"
      ],
      "execution_count": 18,
      "outputs": [
        {
          "output_type": "execute_result",
          "data": {
            "text/plain": [
              "(tensor(0.1114), tensor(0.2021))"
            ]
          },
          "metadata": {
            "tags": []
          },
          "execution_count": 18
        }
      ]
    },
    {
      "cell_type": "code",
      "metadata": {
        "id": "6aGPNMY977il",
        "outputId": "b22f9ffb-fb2e-4c2d-9fb1-3513e7663ce3",
        "colab": {
          "base_uri": "https://localhost:8080/"
        }
      },
      "source": [
        "dist_7_abs = (a_3 - mean7).abs().mean()\n",
        "dist_7_sqr = ((a_3 - mean7)**2).mean().sqrt()\n",
        "dist_7_abs, dist_7_sqr"
      ],
      "execution_count": 19,
      "outputs": [
        {
          "output_type": "execute_result",
          "data": {
            "text/plain": [
              "(tensor(0.1586), tensor(0.3021))"
            ]
          },
          "metadata": {
            "tags": []
          },
          "execution_count": 19
        }
      ]
    },
    {
      "cell_type": "markdown",
      "metadata": {
        "id": "gIS8GHX38N6y"
      },
      "source": [
        "Taking a random 3, we see that the distance from the perfect 3 is less then the distance from the perfect 7, which is exactly what we wanted. Our solution looks promising !\n",
        "\n",
        "> *PyTorch* provides methods to calculate **L1 norm & MSE** (**MSE** is the just L2 norm whitout the square root), they are inside the *torch.nn.functional*, which is already imported by fastai as **F**.\n",
        "\n",
        "> L1 & L2 norm are **loss functions**. "
      ]
    },
    {
      "cell_type": "code",
      "metadata": {
        "id": "3X5Zm9V28NYp",
        "outputId": "972e833a-2668-4731-8f87-9fe395a01694",
        "colab": {
          "base_uri": "https://localhost:8080/"
        }
      },
      "source": [
        "F.l1_loss(a_3.float(),mean7), F.mse_loss(a_3,mean7).sqrt()"
      ],
      "execution_count": 20,
      "outputs": [
        {
          "output_type": "execute_result",
          "data": {
            "text/plain": [
              "(tensor(0.1586), tensor(0.3021))"
            ]
          },
          "metadata": {
            "tags": []
          },
          "execution_count": 20
        }
      ]
    },
    {
      "cell_type": "markdown",
      "metadata": {
        "id": "i4cxYwuFAvF7"
      },
      "source": [
        "> The **MSE** penalyzes mistakes more heavily then **L1 norm** (on the other hand it is more merciful towards small mistakes)."
      ]
    },
    {
      "cell_type": "markdown",
      "metadata": {
        "id": "VXaazcrM97Dv"
      },
      "source": [
        "To test how good our model is, we'll need a validation set (images he has not seen before), recall that in our dataset folder this is already provided by **MNIST** in the valid folder. So we'll just do the same operations we did for the training set seen above to create our *tensors*.\n",
        "\n",
        "> It's good practise to check your tensor's shape to ensure that you've done everything properly."
      ]
    },
    {
      "cell_type": "code",
      "metadata": {
        "id": "GkWrps9T9zPP",
        "outputId": "c8f807eb-5326-499c-9bd0-067bb7dc9a05",
        "colab": {
          "base_uri": "https://localhost:8080/"
        }
      },
      "source": [
        "valid_3_tens = torch.stack([tensor(Image.open(o)) \n",
        "                            for o in (path/'valid'/'3').ls()])\n",
        "valid_3_tens = valid_3_tens.float()/255\n",
        "valid_7_tens = torch.stack([tensor(Image.open(o)) \n",
        "                            for o in (path/'valid'/'7').ls()])\n",
        "valid_7_tens = valid_7_tens.float()/255\n",
        "valid_3_tens.shape,valid_7_tens.shape"
      ],
      "execution_count": 21,
      "outputs": [
        {
          "output_type": "execute_result",
          "data": {
            "text/plain": [
              "(torch.Size([1010, 28, 28]), torch.Size([1028, 28, 28]))"
            ]
          },
          "metadata": {
            "tags": []
          },
          "execution_count": 21
        }
      ]
    },
    {
      "cell_type": "markdown",
      "metadata": {
        "id": "lSz6b4MP_g-y"
      },
      "source": [
        "Let's create a function that does what we've discussed earlier (calculate distances), the *(-1, -2)* means that we calculate the mean along the last axis and the second last axis (which represents the width and the height of the image)."
      ]
    },
    {
      "cell_type": "code",
      "metadata": {
        "id": "cPNrYw7y_EZp",
        "outputId": "965e1c43-c0dd-487e-9797-9af185c0ab21",
        "colab": {
          "base_uri": "https://localhost:8080/"
        }
      },
      "source": [
        "def mnist_distance(a,b): return (a-b).abs().mean((-1,-2))\n",
        "mnist_distance(a_3, mean3)"
      ],
      "execution_count": 22,
      "outputs": [
        {
          "output_type": "execute_result",
          "data": {
            "text/plain": [
              "tensor(0.1114)"
            ]
          },
          "metadata": {
            "tags": []
          },
          "execution_count": 22
        }
      ]
    },
    {
      "cell_type": "markdown",
      "metadata": {
        "id": "nye9CRlOBt2k"
      },
      "source": [
        "Cool this was for one image tho but how about all the validation set (because this is what we need to calulate the *metric*). Well i'am glad you ask, this shows that you are paying attention (or just that i'am talking to myself ...). \n",
        "\n",
        "Well thanks to *PyTorch* we don't have to re-write *mnist_distance* function because it uses a neat trick called **Broadcasting**. It means that rather then complaining about the shapes being different, when given a rank 3 tensor (validation set images) and rank 2 tensor (ideal 3), it treats the rank 2 tensor as if it was a rank 3 one (you can imagine in your head that it kinda of duplicates the ideal 3 1010 times and it substracts it from each image from the validation set element wise, but it does not actually duplicate it-- no more memory is allocated).\n",
        "\n",
        "Finally it takes the mean over the last and second last axis, which is the height and width of each image, which leaves us with rank 1 tensor (array), of the distance of each image in the validation set from the ideal 3. "
      ]
    },
    {
      "cell_type": "code",
      "metadata": {
        "id": "Q5X_b1eO_fDk",
        "outputId": "bd517582-a2cd-4671-f891-cb0837b38a30",
        "colab": {
          "base_uri": "https://localhost:8080/"
        }
      },
      "source": [
        "valid_3_dist = mnist_distance(valid_3_tens, mean3)\n",
        "valid_3_dist, valid_3_dist.shape"
      ],
      "execution_count": 23,
      "outputs": [
        {
          "output_type": "execute_result",
          "data": {
            "text/plain": [
              "(tensor([0.1133, 0.1656, 0.1848,  ..., 0.1623, 0.1447, 0.1252]),\n",
              " torch.Size([1010]))"
            ]
          },
          "metadata": {
            "tags": []
          },
          "execution_count": 23
        }
      ]
    },
    {
      "cell_type": "markdown",
      "metadata": {
        "id": "bIrs6Vuj1H23"
      },
      "source": [
        "Now all is left to do is create a function that tells us whether an image is a 3 or a 7. By comparing the distance between the ideal 3/7 respectively (True for 3, False for 7).\n",
        "\n",
        "> This function will automaticlly do **Broadcasting** and be applied **element wise**, just like all *PyTorch* functions and operators."
      ]
    },
    {
      "cell_type": "code",
      "metadata": {
        "id": "zLQZ9Rom_sJK"
      },
      "source": [
        "def is_3(x): return mnist_distance(x, mean3) < mnist_distance(x, mean7)"
      ],
      "execution_count": 25,
      "outputs": []
    },
    {
      "cell_type": "code",
      "metadata": {
        "id": "7m_VnPRb4hlA",
        "outputId": "346771bb-2573-4c24-f840-750c000a936b",
        "colab": {
          "base_uri": "https://localhost:8080/"
        }
      },
      "source": [
        "is_3(valid_3_tens)"
      ],
      "execution_count": 27,
      "outputs": [
        {
          "output_type": "execute_result",
          "data": {
            "text/plain": [
              "tensor([ True,  True,  True,  ...,  True, False,  True])"
            ]
          },
          "metadata": {
            "tags": []
          },
          "execution_count": 27
        }
      ]
    },
    {
      "cell_type": "markdown",
      "metadata": {
        "id": "12cHyiaR4G1h"
      },
      "source": [
        "> If we convert a boolean tensor into float we get a 1. for True and 0. for False (this will come in handy to calculate the accuracy)."
      ]
    },
    {
      "cell_type": "code",
      "metadata": {
        "id": "_xFcyQif4E_a",
        "outputId": "1e98a981-b237-4e21-8acf-5b1038b12bad",
        "colab": {
          "base_uri": "https://localhost:8080/"
        }
      },
      "source": [
        "is_3(a_3), is_3(a_3).float()"
      ],
      "execution_count": 26,
      "outputs": [
        {
          "output_type": "execute_result",
          "data": {
            "text/plain": [
              "(tensor(True), tensor(1.))"
            ]
          },
          "metadata": {
            "tags": []
          },
          "execution_count": 26
        }
      ]
    },
    {
      "cell_type": "markdown",
      "metadata": {
        "id": "rxWEE5FM2zJ6"
      },
      "source": [
        "Let's see how good our simple solution is. It has **95%** overall accuracy which is more then acceptable ! "
      ]
    },
    {
      "cell_type": "code",
      "metadata": {
        "id": "sfH_73fe2yaY",
        "outputId": "0b630620-74e5-4518-e04b-3a122ba2ad25",
        "colab": {
          "base_uri": "https://localhost:8080/"
        }
      },
      "source": [
        "accuracy_3s =      is_3(valid_3_tens).float() .mean()\n",
        "accuracy_7s = (1 - is_3(valid_7_tens).float()).mean()\n",
        "\n",
        "accuracy_3s,accuracy_7s,(accuracy_3s+accuracy_7s)/2"
      ],
      "execution_count": 28,
      "outputs": [
        {
          "output_type": "execute_result",
          "data": {
            "text/plain": [
              "(tensor(0.9168), tensor(0.9854), tensor(0.9511))"
            ]
          },
          "metadata": {
            "tags": []
          },
          "execution_count": 28
        }
      ]
    }
  ]
}